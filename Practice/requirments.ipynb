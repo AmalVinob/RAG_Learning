{
 "cells": [
  {
   "cell_type": "code",
   "execution_count": 1,
   "id": "e4b5b1b2-b8df-4909-989b-eda43bacec0d",
   "metadata": {},
   "outputs": [],
   "source": [
    "!pip install -q -U \\\n",
    "     Sentence-transformers==3.0.1 \\\n",
    "     langchain==0.3.19 \\\n",
    "     langchain-groq==0.2.4 \\\n",
    "     langchain-chroma==0.2.2 \\\n",
    "     langchain-community==0.3.18 \\\n",
    "     langchain-huggingface==0.1.2 \\\n",
    "     einops==0.8.1 \\\n",
    "     rank_bm25==0.2.2"
   ]
  },
  {
   "cell_type": "code",
   "execution_count": null,
   "id": "ca22a22c-af65-4b7f-8895-18dea1b4f786",
   "metadata": {},
   "outputs": [],
   "source": []
  }
 ],
 "metadata": {
  "kernelspec": {
   "display_name": "LlamaIndex (LinkedIn Learning)",
   "language": "python",
   "name": "lil_llama_index"
  },
  "language_info": {
   "codemirror_mode": {
    "name": "ipython",
    "version": 3
   },
   "file_extension": ".py",
   "mimetype": "text/x-python",
   "name": "python",
   "nbconvert_exporter": "python",
   "pygments_lexer": "ipython3",
   "version": "3.10.16"
  }
 },
 "nbformat": 4,
 "nbformat_minor": 5
}
