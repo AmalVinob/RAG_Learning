{
 "cells": [
  {
   "cell_type": "code",
   "execution_count": 3,
   "id": "cba54e22-bb2a-4e7a-a657-fddaf4987882",
   "metadata": {},
   "outputs": [],
   "source": [
    "from llama_index.core import Document\n",
    "\n",
    "text_list = ['hello world', 'i am superman']"
   ]
  },
  {
   "cell_type": "code",
   "execution_count": 4,
   "id": "d5c2d873-9325-47ae-917d-2e1e5cc7da2c",
   "metadata": {},
   "outputs": [
    {
     "data": {
      "text/plain": [
       "[Document(id_='b9937872-409d-4642-898f-f52098d210f6', embedding=None, metadata={}, excluded_embed_metadata_keys=[], excluded_llm_metadata_keys=[], relationships={}, metadata_template='{key}: {value}', metadata_separator='\\n', text_resource=MediaResource(embeddings=None, data=None, text='hello world', path=None, url=None, mimetype=None), image_resource=None, audio_resource=None, video_resource=None, text_template='{metadata_str}\\n\\n{content}'),\n",
       " Document(id_='7ea25baa-3867-4cfa-9f87-999be824da58', embedding=None, metadata={}, excluded_embed_metadata_keys=[], excluded_llm_metadata_keys=[], relationships={}, metadata_template='{key}: {value}', metadata_separator='\\n', text_resource=MediaResource(embeddings=None, data=None, text='i am superman', path=None, url=None, mimetype=None), image_resource=None, audio_resource=None, video_resource=None, text_template='{metadata_str}\\n\\n{content}')]"
      ]
     },
     "execution_count": 4,
     "metadata": {},
     "output_type": "execute_result"
    }
   ],
   "source": [
    "documment = [Document(text = t) for t in text_list]\n",
    "documment"
   ]
  },
  {
   "cell_type": "code",
   "execution_count": 5,
   "id": "dcaf813e-9bc2-48a8-8b2f-2839baff1106",
   "metadata": {},
   "outputs": [
    {
     "data": {
      "text/plain": [
       "{}"
      ]
     },
     "execution_count": 5,
     "metadata": {},
     "output_type": "execute_result"
    }
   ],
   "source": [
    "documment[0].metadata"
   ]
  },
  {
   "cell_type": "code",
   "execution_count": 6,
   "id": "0da10637-7ff8-4166-ae2f-2d7863665a11",
   "metadata": {},
   "outputs": [
    {
     "data": {
      "text/plain": [
       "Document(id_='fd3e1611-e0e2-4fde-bdc8-6344308d5b58', embedding=None, metadata={'filename': '<doc_filename>', 'category': 'Superhero'}, excluded_embed_metadata_keys=[], excluded_llm_metadata_keys=[], relationships={}, metadata_template='{key}: {value}', metadata_separator='\\n', text_resource=MediaResource(embeddings=None, data=None, text='I am Superman', path=None, url=None, mimetype=None), image_resource=None, audio_resource=None, video_resource=None, text_template='{metadata_str}\\n\\n{content}')"
      ]
     },
     "execution_count": 6,
     "metadata": {},
     "output_type": "execute_result"
    }
   ],
   "source": [
    "document = Document(\n",
    "    text = 'I am Superman',\n",
    "    metadata ={\"filename\":\"<doc_filename>\", \"category\" : \"Superhero\"}\n",
    ")\n",
    "\n",
    "document"
   ]
  },
  {
   "cell_type": "code",
   "execution_count": 7,
   "id": "74de7677-7312-4822-b4d2-56092751afe4",
   "metadata": {},
   "outputs": [
    {
     "data": {
      "text/plain": [
       "{'filename': '<doc_filename>', 'category': 'Superhero'}"
      ]
     },
     "execution_count": 7,
     "metadata": {},
     "output_type": "execute_result"
    }
   ],
   "source": [
    "document.metadata"
   ]
  },
  {
   "cell_type": "code",
   "execution_count": 8,
   "id": "fe144202-bed0-4a2c-b9be-b15f3a3b7680",
   "metadata": {},
   "outputs": [],
   "source": [
    "from llama_index.core import SimpleDirectoryReader\n",
    "\n",
    "filename_fn = lambda filename: {\"file_name\": filename}\n",
    "\n",
    "# automatically sets the metadata of each document according to filename_fn\n",
    "documents = SimpleDirectoryReader(\n",
    "    \"./data\", file_metadata=filename_fn\n",
    ").load_data()"
   ]
  },
  {
   "cell_type": "code",
   "execution_count": 10,
   "id": "e1725673-775c-4466-8b10-76d7c42dcae3",
   "metadata": {},
   "outputs": [
    {
     "data": {
      "text/plain": [
       "[Document(id_='b750c765-6d88-4325-af3d-04cd7a12fcad', embedding=None, metadata={'file_name': 'C:\\\\Users\\\\1090135\\\\Downloads\\\\orion_learning\\\\RAG\\\\Practice\\\\data\\\\document1.txt'}, excluded_embed_metadata_keys=['file_name', 'file_type', 'file_size', 'creation_date', 'last_modified_date', 'last_accessed_date'], excluded_llm_metadata_keys=['file_name', 'file_type', 'file_size', 'creation_date', 'last_modified_date', 'last_accessed_date'], relationships={}, metadata_template='{key}: {value}', metadata_separator='\\n', text_resource=MediaResource(embeddings=None, data=None, text='LlamaIndex is a powerful tool for building knowledge graphs.', path=None, url=None, mimetype=None), image_resource=None, audio_resource=None, video_resource=None, text_template='{metadata_str}\\n\\n{content}'),\n",
       " Document(id_='b617a565-3f7a-40a4-ab0d-7850ff3e29c8', embedding=None, metadata={'file_name': 'C:\\\\Users\\\\1090135\\\\Downloads\\\\orion_learning\\\\RAG\\\\Practice\\\\data\\\\document2.txt'}, excluded_embed_metadata_keys=['file_name', 'file_type', 'file_size', 'creation_date', 'last_modified_date', 'last_accessed_date'], excluded_llm_metadata_keys=['file_name', 'file_type', 'file_size', 'creation_date', 'last_modified_date', 'last_accessed_date'], relationships={}, metadata_template='{key}: {value}', metadata_separator='\\n', text_resource=MediaResource(embeddings=None, data=None, text='Hugging Face provides transformers for machine learning models.', path=None, url=None, mimetype=None), image_resource=None, audio_resource=None, video_resource=None, text_template='{metadata_str}\\n\\n{content}'),\n",
       " Document(id_='d847cb75-3f1e-4da2-9e36-cac287635840', embedding=None, metadata={'file_name': 'C:\\\\Users\\\\1090135\\\\Downloads\\\\orion_learning\\\\RAG\\\\Practice\\\\data\\\\document3.txt'}, excluded_embed_metadata_keys=['file_name', 'file_type', 'file_size', 'creation_date', 'last_modified_date', 'last_accessed_date'], excluded_llm_metadata_keys=['file_name', 'file_type', 'file_size', 'creation_date', 'last_modified_date', 'last_accessed_date'], relationships={}, metadata_template='{key}: {value}', metadata_separator='\\n', text_resource=MediaResource(embeddings=None, data=None, text='Using embeddings, we can map text to numerical representations.LlamaIndex is a powerful tool for building knowledge graphs.', path=None, url=None, mimetype=None), image_resource=None, audio_resource=None, video_resource=None, text_template='{metadata_str}\\n\\n{content}')]"
      ]
     },
     "execution_count": 10,
     "metadata": {},
     "output_type": "execute_result"
    }
   ],
   "source": [
    "documents"
   ]
  },
  {
   "cell_type": "code",
   "execution_count": null,
   "id": "96ae5993-6e71-4dc4-9033-aad77f18ea51",
   "metadata": {},
   "outputs": [],
   "source": []
  }
 ],
 "metadata": {
  "kernelspec": {
   "display_name": "LlamaIndex (LinkedIn Learning)",
   "language": "python",
   "name": "lil_llama_index"
  },
  "language_info": {
   "codemirror_mode": {
    "name": "ipython",
    "version": 3
   },
   "file_extension": ".py",
   "mimetype": "text/x-python",
   "name": "python",
   "nbconvert_exporter": "python",
   "pygments_lexer": "ipython3",
   "version": "3.10.16"
  }
 },
 "nbformat": 4,
 "nbformat_minor": 5
}
