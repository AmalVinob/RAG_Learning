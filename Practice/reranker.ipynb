{
 "cells": [
  {
   "cell_type": "markdown",
   "id": "3d567434-25d1-49b0-b2ab-558c6fbcc73e",
   "metadata": {},
   "source": [
    "rerank-english-v3.0"
   ]
  },
  {
   "cell_type": "code",
   "execution_count": 1,
   "id": "754aee21-87dd-45a2-99f2-d7878636c609",
   "metadata": {
    "scrolled": true
   },
   "outputs": [
    {
     "name": "stdout",
     "output_type": "stream",
     "text": [
      "Requirement already satisfied: llama-index-postprocessor-cohere-rerank in c:\\users\\1090135\\appdata\\local\\anaconda3\\envs\\lil_llama_index\\lib\\site-packages (0.1.6)\n",
      "Requirement already satisfied: cohere<6.0.0,>=5.1.1 in c:\\users\\1090135\\appdata\\local\\anaconda3\\envs\\lil_llama_index\\lib\\site-packages (from llama-index-postprocessor-cohere-rerank) (5.5.0)\n",
      "Collecting llama-index-core<0.11.0,>=0.10.35 (from llama-index-postprocessor-cohere-rerank)\n",
      "  Using cached llama_index_core-0.10.68.post1-py3-none-any.whl.metadata (2.5 kB)\n",
      "Requirement already satisfied: boto3<2.0.0,>=1.34.0 in c:\\users\\1090135\\appdata\\local\\anaconda3\\envs\\lil_llama_index\\lib\\site-packages (from cohere<6.0.0,>=5.1.1->llama-index-postprocessor-cohere-rerank) (1.36.26)\n",
      "Requirement already satisfied: fastavro<2.0.0,>=1.9.4 in c:\\users\\1090135\\appdata\\local\\anaconda3\\envs\\lil_llama_index\\lib\\site-packages (from cohere<6.0.0,>=5.1.1->llama-index-postprocessor-cohere-rerank) (1.10.0)\n",
      "Requirement already satisfied: httpx>=0.21.2 in c:\\users\\1090135\\appdata\\local\\anaconda3\\envs\\lil_llama_index\\lib\\site-packages (from cohere<6.0.0,>=5.1.1->llama-index-postprocessor-cohere-rerank) (0.27.0)\n",
      "Requirement already satisfied: httpx-sse<0.5.0,>=0.4.0 in c:\\users\\1090135\\appdata\\local\\anaconda3\\envs\\lil_llama_index\\lib\\site-packages (from cohere<6.0.0,>=5.1.1->llama-index-postprocessor-cohere-rerank) (0.4.0)\n",
      "Requirement already satisfied: pydantic>=1.9.2 in c:\\users\\1090135\\appdata\\local\\anaconda3\\envs\\lil_llama_index\\lib\\site-packages (from cohere<6.0.0,>=5.1.1->llama-index-postprocessor-cohere-rerank) (2.10.6)\n",
      "Requirement already satisfied: requests<3.0.0,>=2.0.0 in c:\\users\\1090135\\appdata\\local\\anaconda3\\envs\\lil_llama_index\\lib\\site-packages (from cohere<6.0.0,>=5.1.1->llama-index-postprocessor-cohere-rerank) (2.32.3)\n",
      "Collecting tokenizers<0.20,>=0.19 (from cohere<6.0.0,>=5.1.1->llama-index-postprocessor-cohere-rerank)\n",
      "  Using cached tokenizers-0.19.1-cp310-none-win_amd64.whl.metadata (6.9 kB)\n",
      "Requirement already satisfied: types-requests<3.0.0,>=2.0.0 in c:\\users\\1090135\\appdata\\local\\anaconda3\\envs\\lil_llama_index\\lib\\site-packages (from cohere<6.0.0,>=5.1.1->llama-index-postprocessor-cohere-rerank) (2.32.0.20241016)\n",
      "Requirement already satisfied: typing_extensions>=4.0.0 in c:\\users\\1090135\\appdata\\local\\anaconda3\\envs\\lil_llama_index\\lib\\site-packages (from cohere<6.0.0,>=5.1.1->llama-index-postprocessor-cohere-rerank) (4.12.2)\n",
      "Requirement already satisfied: PyYAML>=6.0.1 in c:\\users\\1090135\\appdata\\local\\anaconda3\\envs\\lil_llama_index\\lib\\site-packages (from llama-index-core<0.11.0,>=0.10.35->llama-index-postprocessor-cohere-rerank) (6.0.2)\n",
      "Requirement already satisfied: SQLAlchemy>=1.4.49 in c:\\users\\1090135\\appdata\\local\\anaconda3\\envs\\lil_llama_index\\lib\\site-packages (from SQLAlchemy[asyncio]>=1.4.49->llama-index-core<0.11.0,>=0.10.35->llama-index-postprocessor-cohere-rerank) (2.0.38)\n",
      "Requirement already satisfied: aiohttp<4.0.0,>=3.8.6 in c:\\users\\1090135\\appdata\\local\\anaconda3\\envs\\lil_llama_index\\lib\\site-packages (from llama-index-core<0.11.0,>=0.10.35->llama-index-postprocessor-cohere-rerank) (3.11.12)\n",
      "Requirement already satisfied: dataclasses-json in c:\\users\\1090135\\appdata\\local\\anaconda3\\envs\\lil_llama_index\\lib\\site-packages (from llama-index-core<0.11.0,>=0.10.35->llama-index-postprocessor-cohere-rerank) (0.6.7)\n",
      "Requirement already satisfied: deprecated>=1.2.9.3 in c:\\users\\1090135\\appdata\\local\\anaconda3\\envs\\lil_llama_index\\lib\\site-packages (from llama-index-core<0.11.0,>=0.10.35->llama-index-postprocessor-cohere-rerank) (1.2.18)\n",
      "Requirement already satisfied: dirtyjson<2.0.0,>=1.0.8 in c:\\users\\1090135\\appdata\\local\\anaconda3\\envs\\lil_llama_index\\lib\\site-packages (from llama-index-core<0.11.0,>=0.10.35->llama-index-postprocessor-cohere-rerank) (1.0.8)\n",
      "Requirement already satisfied: fsspec>=2023.5.0 in c:\\users\\1090135\\appdata\\local\\anaconda3\\envs\\lil_llama_index\\lib\\site-packages (from llama-index-core<0.11.0,>=0.10.35->llama-index-postprocessor-cohere-rerank) (2024.12.0)\n",
      "Requirement already satisfied: nest-asyncio<2.0.0,>=1.5.8 in c:\\users\\1090135\\appdata\\local\\anaconda3\\envs\\lil_llama_index\\lib\\site-packages (from llama-index-core<0.11.0,>=0.10.35->llama-index-postprocessor-cohere-rerank) (1.6.0)\n",
      "Requirement already satisfied: networkx>=3.0 in c:\\users\\1090135\\appdata\\local\\anaconda3\\envs\\lil_llama_index\\lib\\site-packages (from llama-index-core<0.11.0,>=0.10.35->llama-index-postprocessor-cohere-rerank) (3.4.2)\n",
      "Requirement already satisfied: nltk!=3.9,>=3.8.1 in c:\\users\\1090135\\appdata\\local\\anaconda3\\envs\\lil_llama_index\\lib\\site-packages (from llama-index-core<0.11.0,>=0.10.35->llama-index-postprocessor-cohere-rerank) (3.9.1)\n",
      "Requirement already satisfied: numpy<2.0.0 in c:\\users\\1090135\\appdata\\local\\anaconda3\\envs\\lil_llama_index\\lib\\site-packages (from llama-index-core<0.11.0,>=0.10.35->llama-index-postprocessor-cohere-rerank) (1.26.4)\n",
      "Requirement already satisfied: pandas in c:\\users\\1090135\\appdata\\local\\anaconda3\\envs\\lil_llama_index\\lib\\site-packages (from llama-index-core<0.11.0,>=0.10.35->llama-index-postprocessor-cohere-rerank) (2.2.3)\n",
      "Requirement already satisfied: pillow>=9.0.0 in c:\\users\\1090135\\appdata\\local\\anaconda3\\envs\\lil_llama_index\\lib\\site-packages (from llama-index-core<0.11.0,>=0.10.35->llama-index-postprocessor-cohere-rerank) (11.1.0)\n",
      "Requirement already satisfied: tenacity!=8.4.0,<9.0.0,>=8.2.0 in c:\\users\\1090135\\appdata\\local\\anaconda3\\envs\\lil_llama_index\\lib\\site-packages (from llama-index-core<0.11.0,>=0.10.35->llama-index-postprocessor-cohere-rerank) (8.5.0)\n",
      "Requirement already satisfied: tiktoken>=0.3.3 in c:\\users\\1090135\\appdata\\local\\anaconda3\\envs\\lil_llama_index\\lib\\site-packages (from llama-index-core<0.11.0,>=0.10.35->llama-index-postprocessor-cohere-rerank) (0.9.0)\n",
      "Requirement already satisfied: tqdm<5.0.0,>=4.66.1 in c:\\users\\1090135\\appdata\\local\\anaconda3\\envs\\lil_llama_index\\lib\\site-packages (from llama-index-core<0.11.0,>=0.10.35->llama-index-postprocessor-cohere-rerank) (4.67.1)\n",
      "Requirement already satisfied: typing-inspect>=0.8.0 in c:\\users\\1090135\\appdata\\local\\anaconda3\\envs\\lil_llama_index\\lib\\site-packages (from llama-index-core<0.11.0,>=0.10.35->llama-index-postprocessor-cohere-rerank) (0.9.0)\n",
      "Requirement already satisfied: wrapt in c:\\users\\1090135\\appdata\\local\\anaconda3\\envs\\lil_llama_index\\lib\\site-packages (from llama-index-core<0.11.0,>=0.10.35->llama-index-postprocessor-cohere-rerank) (1.17.2)\n",
      "Requirement already satisfied: aiohappyeyeballs>=2.3.0 in c:\\users\\1090135\\appdata\\local\\anaconda3\\envs\\lil_llama_index\\lib\\site-packages (from aiohttp<4.0.0,>=3.8.6->llama-index-core<0.11.0,>=0.10.35->llama-index-postprocessor-cohere-rerank) (2.4.6)\n",
      "Requirement already satisfied: aiosignal>=1.1.2 in c:\\users\\1090135\\appdata\\local\\anaconda3\\envs\\lil_llama_index\\lib\\site-packages (from aiohttp<4.0.0,>=3.8.6->llama-index-core<0.11.0,>=0.10.35->llama-index-postprocessor-cohere-rerank) (1.3.2)\n",
      "Requirement already satisfied: async-timeout<6.0,>=4.0 in c:\\users\\1090135\\appdata\\local\\anaconda3\\envs\\lil_llama_index\\lib\\site-packages (from aiohttp<4.0.0,>=3.8.6->llama-index-core<0.11.0,>=0.10.35->llama-index-postprocessor-cohere-rerank) (4.0.3)\n",
      "Requirement already satisfied: attrs>=17.3.0 in c:\\users\\1090135\\appdata\\local\\anaconda3\\envs\\lil_llama_index\\lib\\site-packages (from aiohttp<4.0.0,>=3.8.6->llama-index-core<0.11.0,>=0.10.35->llama-index-postprocessor-cohere-rerank) (24.3.0)\n",
      "Requirement already satisfied: frozenlist>=1.1.1 in c:\\users\\1090135\\appdata\\local\\anaconda3\\envs\\lil_llama_index\\lib\\site-packages (from aiohttp<4.0.0,>=3.8.6->llama-index-core<0.11.0,>=0.10.35->llama-index-postprocessor-cohere-rerank) (1.5.0)\n",
      "Requirement already satisfied: multidict<7.0,>=4.5 in c:\\users\\1090135\\appdata\\local\\anaconda3\\envs\\lil_llama_index\\lib\\site-packages (from aiohttp<4.0.0,>=3.8.6->llama-index-core<0.11.0,>=0.10.35->llama-index-postprocessor-cohere-rerank) (6.1.0)\n",
      "Requirement already satisfied: propcache>=0.2.0 in c:\\users\\1090135\\appdata\\local\\anaconda3\\envs\\lil_llama_index\\lib\\site-packages (from aiohttp<4.0.0,>=3.8.6->llama-index-core<0.11.0,>=0.10.35->llama-index-postprocessor-cohere-rerank) (0.3.0)\n",
      "Requirement already satisfied: yarl<2.0,>=1.17.0 in c:\\users\\1090135\\appdata\\local\\anaconda3\\envs\\lil_llama_index\\lib\\site-packages (from aiohttp<4.0.0,>=3.8.6->llama-index-core<0.11.0,>=0.10.35->llama-index-postprocessor-cohere-rerank) (1.18.3)\n",
      "Requirement already satisfied: botocore<1.37.0,>=1.36.26 in c:\\users\\1090135\\appdata\\local\\anaconda3\\envs\\lil_llama_index\\lib\\site-packages (from boto3<2.0.0,>=1.34.0->cohere<6.0.0,>=5.1.1->llama-index-postprocessor-cohere-rerank) (1.36.26)\n",
      "Requirement already satisfied: jmespath<2.0.0,>=0.7.1 in c:\\users\\1090135\\appdata\\local\\anaconda3\\envs\\lil_llama_index\\lib\\site-packages (from boto3<2.0.0,>=1.34.0->cohere<6.0.0,>=5.1.1->llama-index-postprocessor-cohere-rerank) (1.0.1)\n",
      "Requirement already satisfied: s3transfer<0.12.0,>=0.11.0 in c:\\users\\1090135\\appdata\\local\\anaconda3\\envs\\lil_llama_index\\lib\\site-packages (from boto3<2.0.0,>=1.34.0->cohere<6.0.0,>=5.1.1->llama-index-postprocessor-cohere-rerank) (0.11.2)\n",
      "Requirement already satisfied: anyio in c:\\users\\1090135\\appdata\\local\\anaconda3\\envs\\lil_llama_index\\lib\\site-packages (from httpx>=0.21.2->cohere<6.0.0,>=5.1.1->llama-index-postprocessor-cohere-rerank) (4.6.2)\n",
      "Requirement already satisfied: certifi in c:\\users\\1090135\\appdata\\local\\anaconda3\\envs\\lil_llama_index\\lib\\site-packages (from httpx>=0.21.2->cohere<6.0.0,>=5.1.1->llama-index-postprocessor-cohere-rerank) (2025.1.31)\n",
      "Requirement already satisfied: httpcore==1.* in c:\\users\\1090135\\appdata\\local\\anaconda3\\envs\\lil_llama_index\\lib\\site-packages (from httpx>=0.21.2->cohere<6.0.0,>=5.1.1->llama-index-postprocessor-cohere-rerank) (1.0.2)\n",
      "Requirement already satisfied: idna in c:\\users\\1090135\\appdata\\local\\anaconda3\\envs\\lil_llama_index\\lib\\site-packages (from httpx>=0.21.2->cohere<6.0.0,>=5.1.1->llama-index-postprocessor-cohere-rerank) (3.7)\n",
      "Requirement already satisfied: sniffio in c:\\users\\1090135\\appdata\\local\\anaconda3\\envs\\lil_llama_index\\lib\\site-packages (from httpx>=0.21.2->cohere<6.0.0,>=5.1.1->llama-index-postprocessor-cohere-rerank) (1.3.0)\n",
      "Requirement already satisfied: h11<0.15,>=0.13 in c:\\users\\1090135\\appdata\\local\\anaconda3\\envs\\lil_llama_index\\lib\\site-packages (from httpcore==1.*->httpx>=0.21.2->cohere<6.0.0,>=5.1.1->llama-index-postprocessor-cohere-rerank) (0.14.0)\n",
      "Requirement already satisfied: click in c:\\users\\1090135\\appdata\\local\\anaconda3\\envs\\lil_llama_index\\lib\\site-packages (from nltk!=3.9,>=3.8.1->llama-index-core<0.11.0,>=0.10.35->llama-index-postprocessor-cohere-rerank) (8.1.7)\n",
      "Requirement already satisfied: joblib in c:\\users\\1090135\\appdata\\local\\anaconda3\\envs\\lil_llama_index\\lib\\site-packages (from nltk!=3.9,>=3.8.1->llama-index-core<0.11.0,>=0.10.35->llama-index-postprocessor-cohere-rerank) (1.4.2)\n",
      "Requirement already satisfied: regex>=2021.8.3 in c:\\users\\1090135\\appdata\\local\\anaconda3\\envs\\lil_llama_index\\lib\\site-packages (from nltk!=3.9,>=3.8.1->llama-index-core<0.11.0,>=0.10.35->llama-index-postprocessor-cohere-rerank) (2024.11.6)\n",
      "Requirement already satisfied: annotated-types>=0.6.0 in c:\\users\\1090135\\appdata\\local\\anaconda3\\envs\\lil_llama_index\\lib\\site-packages (from pydantic>=1.9.2->cohere<6.0.0,>=5.1.1->llama-index-postprocessor-cohere-rerank) (0.7.0)\n",
      "Requirement already satisfied: pydantic-core==2.27.2 in c:\\users\\1090135\\appdata\\local\\anaconda3\\envs\\lil_llama_index\\lib\\site-packages (from pydantic>=1.9.2->cohere<6.0.0,>=5.1.1->llama-index-postprocessor-cohere-rerank) (2.27.2)\n",
      "Requirement already satisfied: charset-normalizer<4,>=2 in c:\\users\\1090135\\appdata\\local\\anaconda3\\envs\\lil_llama_index\\lib\\site-packages (from requests<3.0.0,>=2.0.0->cohere<6.0.0,>=5.1.1->llama-index-postprocessor-cohere-rerank) (3.3.2)\n",
      "Requirement already satisfied: urllib3<3,>=1.21.1 in c:\\users\\1090135\\appdata\\local\\anaconda3\\envs\\lil_llama_index\\lib\\site-packages (from requests<3.0.0,>=2.0.0->cohere<6.0.0,>=5.1.1->llama-index-postprocessor-cohere-rerank) (2.3.0)\n",
      "Requirement already satisfied: greenlet!=0.4.17 in c:\\users\\1090135\\appdata\\local\\anaconda3\\envs\\lil_llama_index\\lib\\site-packages (from SQLAlchemy>=1.4.49->SQLAlchemy[asyncio]>=1.4.49->llama-index-core<0.11.0,>=0.10.35->llama-index-postprocessor-cohere-rerank) (3.1.1)\n",
      "Requirement already satisfied: huggingface-hub<1.0,>=0.16.4 in c:\\users\\1090135\\appdata\\local\\anaconda3\\envs\\lil_llama_index\\lib\\site-packages (from tokenizers<0.20,>=0.19->cohere<6.0.0,>=5.1.1->llama-index-postprocessor-cohere-rerank) (0.29.1)\n",
      "Requirement already satisfied: colorama in c:\\users\\1090135\\appdata\\local\\anaconda3\\envs\\lil_llama_index\\lib\\site-packages (from tqdm<5.0.0,>=4.66.1->llama-index-core<0.11.0,>=0.10.35->llama-index-postprocessor-cohere-rerank) (0.4.6)\n",
      "Requirement already satisfied: mypy-extensions>=0.3.0 in c:\\users\\1090135\\appdata\\local\\anaconda3\\envs\\lil_llama_index\\lib\\site-packages (from typing-inspect>=0.8.0->llama-index-core<0.11.0,>=0.10.35->llama-index-postprocessor-cohere-rerank) (1.0.0)\n",
      "Requirement already satisfied: marshmallow<4.0.0,>=3.18.0 in c:\\users\\1090135\\appdata\\local\\anaconda3\\envs\\lil_llama_index\\lib\\site-packages (from dataclasses-json->llama-index-core<0.11.0,>=0.10.35->llama-index-postprocessor-cohere-rerank) (3.26.1)\n",
      "Requirement already satisfied: python-dateutil>=2.8.2 in c:\\users\\1090135\\appdata\\local\\anaconda3\\envs\\lil_llama_index\\lib\\site-packages (from pandas->llama-index-core<0.11.0,>=0.10.35->llama-index-postprocessor-cohere-rerank) (2.9.0.post0)\n",
      "Requirement already satisfied: pytz>=2020.1 in c:\\users\\1090135\\appdata\\local\\anaconda3\\envs\\lil_llama_index\\lib\\site-packages (from pandas->llama-index-core<0.11.0,>=0.10.35->llama-index-postprocessor-cohere-rerank) (2025.1)\n",
      "Requirement already satisfied: tzdata>=2022.7 in c:\\users\\1090135\\appdata\\local\\anaconda3\\envs\\lil_llama_index\\lib\\site-packages (from pandas->llama-index-core<0.11.0,>=0.10.35->llama-index-postprocessor-cohere-rerank) (2025.1)\n",
      "Requirement already satisfied: filelock in c:\\users\\1090135\\appdata\\local\\anaconda3\\envs\\lil_llama_index\\lib\\site-packages (from huggingface-hub<1.0,>=0.16.4->tokenizers<0.20,>=0.19->cohere<6.0.0,>=5.1.1->llama-index-postprocessor-cohere-rerank) (3.17.0)\n",
      "Requirement already satisfied: packaging>=20.9 in c:\\users\\1090135\\appdata\\local\\anaconda3\\envs\\lil_llama_index\\lib\\site-packages (from huggingface-hub<1.0,>=0.16.4->tokenizers<0.20,>=0.19->cohere<6.0.0,>=5.1.1->llama-index-postprocessor-cohere-rerank) (24.2)\n",
      "Requirement already satisfied: six>=1.5 in c:\\users\\1090135\\appdata\\local\\anaconda3\\envs\\lil_llama_index\\lib\\site-packages (from python-dateutil>=2.8.2->pandas->llama-index-core<0.11.0,>=0.10.35->llama-index-postprocessor-cohere-rerank) (1.16.0)\n",
      "Requirement already satisfied: exceptiongroup>=1.0.2 in c:\\users\\1090135\\appdata\\local\\anaconda3\\envs\\lil_llama_index\\lib\\site-packages (from anyio->httpx>=0.21.2->cohere<6.0.0,>=5.1.1->llama-index-postprocessor-cohere-rerank) (1.2.0)\n",
      "Using cached llama_index_core-0.10.68.post1-py3-none-any.whl (1.6 MB)\n",
      "Using cached tokenizers-0.19.1-cp310-none-win_amd64.whl (2.2 MB)\n",
      "Installing collected packages: tokenizers, llama-index-core\n",
      "  Attempting uninstall: tokenizers\n",
      "    Found existing installation: tokenizers 0.21.0\n",
      "    Uninstalling tokenizers-0.21.0:\n",
      "      Successfully uninstalled tokenizers-0.21.0\n",
      "  Attempting uninstall: llama-index-core\n",
      "    Found existing installation: llama-index-core 0.12.21\n",
      "    Uninstalling llama-index-core-0.12.21:\n",
      "      Successfully uninstalled llama-index-core-0.12.21\n",
      "Successfully installed llama-index-core-0.10.68.post1 tokenizers-0.19.1\n",
      "Note: you may need to restart the kernel to use updated packages.\n"
     ]
    },
    {
     "name": "stderr",
     "output_type": "stream",
     "text": [
      "  WARNING: Failed to remove contents in a temporary directory 'C:\\Users\\1090135\\AppData\\Local\\anaconda3\\envs\\lil_llama_index\\Lib\\site-packages\\~-kenizers'.\n",
      "  You can safely remove it manually.\n",
      "ERROR: pip's dependency resolver does not currently take into account all the packages that are installed. This behaviour is the source of the following dependency conflicts.\n",
      "llama-cloud-services 0.6.1 requires llama-index-core>=0.11.0, but you have llama-index-core 0.10.68.post1 which is incompatible.\n",
      "llama-index-embeddings-fastembed 0.3.0 requires llama-index-core<0.13.0,>=0.12.0, but you have llama-index-core 0.10.68.post1 which is incompatible.\n",
      "llama-index-embeddings-huggingface 0.5.2 requires llama-index-core<0.13.0,>=0.12.0, but you have llama-index-core 0.10.68.post1 which is incompatible.\n",
      "llama-index-llms-huggingface 0.4.2 requires llama-index-core<0.13.0,>=0.12.0, but you have llama-index-core 0.10.68.post1 which is incompatible.\n",
      "llama-index-readers-smart-pdf-loader 0.3.0 requires llama-index-core<0.13.0,>=0.12.0, but you have llama-index-core 0.10.68.post1 which is incompatible.\n",
      "transformers 4.49.0 requires tokenizers<0.22,>=0.21, but you have tokenizers 0.19.1 which is incompatible.\n"
     ]
    }
   ],
   "source": [
    "pip install llama-index-postprocessor-cohere-rerank"
   ]
  },
  {
   "cell_type": "code",
   "execution_count": 52,
   "id": "a6e5c2c0-91e8-414a-97cf-5ff6645b4f16",
   "metadata": {},
   "outputs": [
    {
     "name": "stdout",
     "output_type": "stream",
     "text": [
      "Requirement already satisfied: flashrank==0.2.10 in c:\\users\\1090135\\appdata\\local\\anaconda3\\envs\\lil_llama_index\\lib\\site-packages (0.2.10)\n",
      "Requirement already satisfied: tokenizers in c:\\users\\1090135\\appdata\\local\\anaconda3\\envs\\lil_llama_index\\lib\\site-packages (from flashrank==0.2.10) (0.21.0)\n",
      "Requirement already satisfied: onnxruntime in c:\\users\\1090135\\appdata\\local\\anaconda3\\envs\\lil_llama_index\\lib\\site-packages (from flashrank==0.2.10) (1.20.1)\n",
      "Requirement already satisfied: numpy in c:\\users\\1090135\\appdata\\local\\anaconda3\\envs\\lil_llama_index\\lib\\site-packages (from flashrank==0.2.10) (1.26.4)\n",
      "Requirement already satisfied: requests in c:\\users\\1090135\\appdata\\local\\anaconda3\\envs\\lil_llama_index\\lib\\site-packages (from flashrank==0.2.10) (2.32.3)\n",
      "Requirement already satisfied: tqdm in c:\\users\\1090135\\appdata\\local\\anaconda3\\envs\\lil_llama_index\\lib\\site-packages (from flashrank==0.2.10) (4.67.1)\n",
      "Requirement already satisfied: coloredlogs in c:\\users\\1090135\\appdata\\local\\anaconda3\\envs\\lil_llama_index\\lib\\site-packages (from onnxruntime->flashrank==0.2.10) (15.0.1)\n",
      "Requirement already satisfied: flatbuffers in c:\\users\\1090135\\appdata\\local\\anaconda3\\envs\\lil_llama_index\\lib\\site-packages (from onnxruntime->flashrank==0.2.10) (25.2.10)\n",
      "Requirement already satisfied: packaging in c:\\users\\1090135\\appdata\\local\\anaconda3\\envs\\lil_llama_index\\lib\\site-packages (from onnxruntime->flashrank==0.2.10) (24.2)\n",
      "Requirement already satisfied: protobuf in c:\\users\\1090135\\appdata\\local\\anaconda3\\envs\\lil_llama_index\\lib\\site-packages (from onnxruntime->flashrank==0.2.10) (5.29.3)\n",
      "Requirement already satisfied: sympy in c:\\users\\1090135\\appdata\\local\\anaconda3\\envs\\lil_llama_index\\lib\\site-packages (from onnxruntime->flashrank==0.2.10) (1.13.1)\n",
      "Requirement already satisfied: charset-normalizer<4,>=2 in c:\\users\\1090135\\appdata\\local\\anaconda3\\envs\\lil_llama_index\\lib\\site-packages (from requests->flashrank==0.2.10) (3.3.2)\n",
      "Requirement already satisfied: idna<4,>=2.5 in c:\\users\\1090135\\appdata\\local\\anaconda3\\envs\\lil_llama_index\\lib\\site-packages (from requests->flashrank==0.2.10) (3.7)\n",
      "Requirement already satisfied: urllib3<3,>=1.21.1 in c:\\users\\1090135\\appdata\\local\\anaconda3\\envs\\lil_llama_index\\lib\\site-packages (from requests->flashrank==0.2.10) (2.3.0)\n",
      "Requirement already satisfied: certifi>=2017.4.17 in c:\\users\\1090135\\appdata\\local\\anaconda3\\envs\\lil_llama_index\\lib\\site-packages (from requests->flashrank==0.2.10) (2025.1.31)\n",
      "Requirement already satisfied: huggingface-hub<1.0,>=0.16.4 in c:\\users\\1090135\\appdata\\local\\anaconda3\\envs\\lil_llama_index\\lib\\site-packages (from tokenizers->flashrank==0.2.10) (0.29.1)\n",
      "Requirement already satisfied: colorama in c:\\users\\1090135\\appdata\\local\\anaconda3\\envs\\lil_llama_index\\lib\\site-packages (from tqdm->flashrank==0.2.10) (0.4.6)\n",
      "Requirement already satisfied: filelock in c:\\users\\1090135\\appdata\\local\\anaconda3\\envs\\lil_llama_index\\lib\\site-packages (from huggingface-hub<1.0,>=0.16.4->tokenizers->flashrank==0.2.10) (3.17.0)\n",
      "Requirement already satisfied: fsspec>=2023.5.0 in c:\\users\\1090135\\appdata\\local\\anaconda3\\envs\\lil_llama_index\\lib\\site-packages (from huggingface-hub<1.0,>=0.16.4->tokenizers->flashrank==0.2.10) (2024.12.0)\n",
      "Requirement already satisfied: pyyaml>=5.1 in c:\\users\\1090135\\appdata\\local\\anaconda3\\envs\\lil_llama_index\\lib\\site-packages (from huggingface-hub<1.0,>=0.16.4->tokenizers->flashrank==0.2.10) (6.0.2)\n",
      "Requirement already satisfied: typing-extensions>=3.7.4.3 in c:\\users\\1090135\\appdata\\local\\anaconda3\\envs\\lil_llama_index\\lib\\site-packages (from huggingface-hub<1.0,>=0.16.4->tokenizers->flashrank==0.2.10) (4.12.2)\n",
      "Requirement already satisfied: humanfriendly>=9.1 in c:\\users\\1090135\\appdata\\local\\anaconda3\\envs\\lil_llama_index\\lib\\site-packages (from coloredlogs->onnxruntime->flashrank==0.2.10) (10.0)\n",
      "Requirement already satisfied: mpmath<1.4,>=1.1.0 in c:\\users\\1090135\\appdata\\local\\anaconda3\\envs\\lil_llama_index\\lib\\site-packages (from sympy->onnxruntime->flashrank==0.2.10) (1.3.0)\n",
      "Requirement already satisfied: pyreadline3 in c:\\users\\1090135\\appdata\\local\\anaconda3\\envs\\lil_llama_index\\lib\\site-packages (from humanfriendly>=9.1->coloredlogs->onnxruntime->flashrank==0.2.10) (3.5.4)\n"
     ]
    }
   ],
   "source": [
    "!pip install flashrank==0.2.10"
   ]
  },
  {
   "cell_type": "code",
   "execution_count": 1,
   "id": "f28ae948-cfaa-4886-9ff4-47a70367fefc",
   "metadata": {},
   "outputs": [
    {
     "name": "stderr",
     "output_type": "stream",
     "text": [
      "USER_AGENT environment variable not set, consider setting it to identify your requests.\n"
     ]
    }
   ],
   "source": [
    "from langchain.llms import Cohere\n",
    "from langchain_huggingface import HuggingFaceEmbeddings\n",
    "from langchain.vectorstores import FAISS\n",
    "from langchain.text_splitter import RecursiveCharacterTextSplitter, CharacterTextSplitter\n",
    "from langchain.document_loaders import WebBaseLoader\n",
    "from langchain.retrievers import ContextualCompressionRetriever\n",
    "from langchain.chains import RetrievalQA\n",
    "from langchain.retrievers.document_compressors import FlashrankRerank"
   ]
  },
  {
   "cell_type": "code",
   "execution_count": 2,
   "id": "a5bd34f8-0f2d-40b9-b73f-cd771dc84025",
   "metadata": {},
   "outputs": [
    {
     "data": {
      "text/plain": [
       "True"
      ]
     },
     "execution_count": 2,
     "metadata": {},
     "output_type": "execute_result"
    }
   ],
   "source": [
    "import os\n",
    "\n",
    "from getpass import getpass\n",
    "import nest_asyncio\n",
    "\n",
    "from dotenv import load_dotenv\n",
    "\n",
    "nest_asyncio.apply()\n",
    "\n",
    "load_dotenv()"
   ]
  },
  {
   "cell_type": "code",
   "execution_count": 3,
   "id": "84fb5660-6767-4472-a496-56db11b2f033",
   "metadata": {},
   "outputs": [],
   "source": [
    "CO_API_KEY = os.environ['CO_API_KEY'] or getpass(\"Enter your Cohere API key: \")"
   ]
  },
  {
   "cell_type": "code",
   "execution_count": 4,
   "id": "9c00ddba-5463-4fe6-b505-526e5c7644a6",
   "metadata": {},
   "outputs": [],
   "source": [
    "def load_data(url):\n",
    "    loader = WebBaseLoader(url)\n",
    "    data = loader.load()\n",
    "\n",
    "    text_splitter = RecursiveCharacterTextSplitter(chunk_size = 500, chunk_overlap= 50)\n",
    "    chunks = text_splitter.split_documents(data)\n",
    "\n",
    "    for idx, chunk in enumerate(chunks):\n",
    "        chunk.metadata['id'] = idx\n",
    "\n",
    "    return chunks"
   ]
  },
  {
   "cell_type": "code",
   "execution_count": null,
   "id": "400026d4-c524-4e5a-9995-c781a5dbc32c",
   "metadata": {},
   "outputs": [],
   "source": [
    "# Using 'nomic-ai/nomic-embed-text-v1.5' model from Hugging Face under its respective license.\n",
    "\n",
    "def vector_store(chunks):\n",
    "    embeddings = HuggingFaceEmbeddings(model_name=\"nomic-ai/nomic-embed-text-v1.5\", model_kwargs={'trust_remote_code': True})\n",
    "\n",
    "    faiss_vector_store = FAISS.from_documents(chunks, embeddings)\n",
    "    \n",
    "    return faiss_vector_store"
   ]
  },
  {
   "cell_type": "code",
   "execution_count": 6,
   "id": "d042742b-8a7d-4f2d-b246-4250da9c0188",
   "metadata": {},
   "outputs": [
    {
     "name": "stderr",
     "output_type": "stream",
     "text": [
      "C:\\Users\\1090135\\AppData\\Local\\Temp\\ipykernel_19096\\224259106.py:1: LangChainDeprecationWarning: The class `Cohere` was deprecated in LangChain 0.1.14 and will be removed in 1.0. An updated version of the class exists in the :class:`~langchain-cohere package and should be used instead. To use it run `pip install -U :class:`~langchain-cohere` and import as `from :class:`~langchain_cohere import Cohere``.\n",
      "  llm = Cohere(model='command-xlarge', temperature= 0.5, cohere_api_key= CO_API_KEY)\n"
     ]
    }
   ],
   "source": [
    "llm = Cohere(model='command-xlarge', temperature= 0.5, cohere_api_key= CO_API_KEY)"
   ]
  },
  {
   "cell_type": "code",
   "execution_count": 7,
   "id": "2253697a-e995-4c11-b221-66ba8150108e",
   "metadata": {},
   "outputs": [
    {
     "data": {
      "text/plain": [
       "Cohere(client=<cohere.client.Client object at 0x0000019832E3B100>, async_client=<cohere.client.AsyncClient object at 0x00000198334B74C0>, model='command-xlarge', temperature=0.5, cohere_api_key=SecretStr('**********'))"
      ]
     },
     "execution_count": 7,
     "metadata": {},
     "output_type": "execute_result"
    }
   ],
   "source": [
    "llm"
   ]
  },
  {
   "cell_type": "code",
   "execution_count": 8,
   "id": "76bc4e78-895e-409a-be0e-4ab143ec1bdf",
   "metadata": {},
   "outputs": [],
   "source": [
    "def reranker(query, llm, vectorstore):\n",
    "\n",
    "    compressor = FlashrankRerank()\n",
    "    compressor.model_rebuild()\n",
    "\n",
    "    compression_retriver = ContextualCompressionRetriever(\n",
    "        base_compressor= compressor,\n",
    "        base_retriever= vectorstore.as_retriever(search_kwargs={\"k\": 20})\n",
    "    )\n",
    "\n",
    "    chain = RetrievalQA.from_chain_type(llm=llm, retriever=compression_retriver)\n",
    "\n",
    "    response = chain.invoke(query)\n",
    "\n",
    "    return {\n",
    "        \"query\": query,\n",
    "        \"final_answer\": response[\"result\"],\n",
    "        \"retrieval_method\": \"Re-ranking with FlashRank\"\n",
    "    }\n"
   ]
  },
  {
   "cell_type": "code",
   "execution_count": 9,
   "id": "7afc5c92-44b1-461f-a5b4-d89b534ca4f5",
   "metadata": {},
   "outputs": [],
   "source": [
    "url = \"https://en.wikipedia.org/wiki/Artificial_intelligence\"\n",
    "\n",
    "data = load_data(url)"
   ]
  },
  {
   "cell_type": "code",
   "execution_count": 10,
   "id": "a3c6b189-4934-463b-a332-5312d5fc838a",
   "metadata": {},
   "outputs": [
    {
     "name": "stderr",
     "output_type": "stream",
     "text": [
      "C:\\Users\\1090135\\AppData\\Local\\anaconda3\\envs\\lil_llama_index\\lib\\site-packages\\sentence_transformers\\cross_encoder\\CrossEncoder.py:11: TqdmExperimentalWarning: Using `tqdm.autonotebook.tqdm` in notebook mode. Use `tqdm.tqdm` instead to force console mode (e.g. in jupyter console)\n",
      "  from tqdm.autonotebook import tqdm, trange\n",
      "!!!!!!!!!!!!megablocks not available, using torch.matmul instead\n",
      "<All keys matched successfully>\n"
     ]
    }
   ],
   "source": [
    "vector_store = vector_store(data)\n"
   ]
  },
  {
   "cell_type": "code",
   "execution_count": 11,
   "id": "70193d63-947f-4477-b7b7-0f5197f5a3ff",
   "metadata": {},
   "outputs": [],
   "source": [
    "query = \"what is the role of artificial intelligence?\""
   ]
  },
  {
   "cell_type": "code",
   "execution_count": 12,
   "id": "6fce1a6e-2c58-4371-bc46-9e79eb42b8ae",
   "metadata": {},
   "outputs": [
    {
     "name": "stderr",
     "output_type": "stream",
     "text": [
      "INFO:flashrank.Ranker:Downloading ms-marco-MultiBERT-L-12...\n",
      "ms-marco-MultiBERT-L-12.zip: 100%|███████████████████████████████████████████████| 98.7M/98.7M [00:09<00:00, 10.8MiB/s]\n",
      "INFO:httpx:HTTP Request: POST https://api.cohere.ai/v1/generate \"HTTP/1.1 200 OK\"\n"
     ]
    }
   ],
   "source": [
    "respones = reranker(query, llm, vector_store)"
   ]
  },
  {
   "cell_type": "code",
   "execution_count": 13,
   "id": "15d86f95-d4db-4de8-9596-4a62286b26ac",
   "metadata": {},
   "outputs": [
    {
     "data": {
      "text/plain": [
       "{'query': 'what is the role of artificial intelligence?',\n",
       " 'final_answer': ' Artificial intelligence plays a role in many different fields, including medicine, astronomy, economics, and more. It has a variety of useful applications, such as logical reasoning, learning, problem-solving, perception, and decision-making. \\n\\nOne of the goals of artificial intelligence is to develop methods and software that allow machines to act in ways that maximize their chances of achieving defined goals, although machines may not always be able to achieve the same level of complexity as that of humans. ',\n",
       " 'retrieval_method': 'Re-ranking with FlashRank'}"
      ]
     },
     "execution_count": 13,
     "metadata": {},
     "output_type": "execute_result"
    }
   ],
   "source": [
    "respones"
   ]
  },
  {
   "cell_type": "code",
   "execution_count": null,
   "id": "cc2e1e50-857f-4e22-907f-6b1163c7955a",
   "metadata": {},
   "outputs": [],
   "source": []
  },
  {
   "cell_type": "code",
   "execution_count": null,
   "id": "c23f0418-37f0-45e2-acfa-5eca808435cd",
   "metadata": {},
   "outputs": [],
   "source": []
  }
 ],
 "metadata": {
  "kernelspec": {
   "display_name": "LlamaIndex (LinkedIn Learning)",
   "language": "python",
   "name": "lil_llama_index"
  },
  "language_info": {
   "codemirror_mode": {
    "name": "ipython",
    "version": 3
   },
   "file_extension": ".py",
   "mimetype": "text/x-python",
   "name": "python",
   "nbconvert_exporter": "python",
   "pygments_lexer": "ipython3",
   "version": "3.10.16"
  }
 },
 "nbformat": 4,
 "nbformat_minor": 5
}
