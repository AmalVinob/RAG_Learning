{
 "cells": [
  {
   "cell_type": "code",
   "execution_count": 26,
   "id": "97feeddb-945f-4678-b319-55ccdcff1686",
   "metadata": {},
   "outputs": [],
   "source": [
    "import cohere"
   ]
  },
  {
   "cell_type": "code",
   "execution_count": 27,
   "id": "0078d82c-cced-4325-b696-d3f778e12ab3",
   "metadata": {},
   "outputs": [
    {
     "data": {
      "text/plain": [
       "True"
      ]
     },
     "execution_count": 27,
     "metadata": {},
     "output_type": "execute_result"
    }
   ],
   "source": [
    "import os\n",
    "\n",
    "from getpass import getpass\n",
    "import nest_asyncio\n",
    "\n",
    "from dotenv import load_dotenv\n",
    "\n",
    "nest_asyncio.apply()\n",
    "\n",
    "load_dotenv()"
   ]
  },
  {
   "cell_type": "code",
   "execution_count": 28,
   "id": "c36dd871-83bb-42ac-ba1b-12037e15d067",
   "metadata": {},
   "outputs": [],
   "source": [
    "CO_API_KEY = os.environ['CO_API_KEY'] or getpass(\"Enter your Cohere API key: \")"
   ]
  },
  {
   "cell_type": "code",
   "execution_count": 24,
   "id": "0e3dced6-335e-48b8-b7d0-bb7c63033c59",
   "metadata": {},
   "outputs": [],
   "source": [
    "cohere_client = cohere.Client(api_key=CO_API_KEY)"
   ]
  },
  {
   "cell_type": "code",
   "execution_count": 25,
   "id": "f51a5cae-048b-4fb3-bbf7-27f4370e71af",
   "metadata": {},
   "outputs": [],
   "source": [
    "Query_Prompt =  \"\"\"Users aren't always the best at articulating what they're looking for. Your task is to understand the \n",
    "essense of the user query and generate {num_queries} alternate queries to expand the users query so it's more robust. This way the user will\n",
    "recieve the most relevant information. \n",
    "\n",
    "Examples are delimited by triple backticks (```) below\n",
    "\n",
    "````\n",
    "User Query: How can I find the positive in situations that seem negative?\n",
    "\n",
    "Alternate Queries:\n",
    "\n",
    "1. How can I cultivate optimism and positive thinking in my daily life?\n",
    "2. Is it possible to find meaning and purpose in challenging or difficult times?\n",
    "3. What are some effective strategies for reframing negative thoughts into positive ones?\n",
    "````\n",
    "\n",
    "User Query : How can I develop a mindset that helps me focus on the positive in tough situations?\n",
    "```\n",
    "1. What are some techniques to shift my perspective from negativity to positivity?\n",
    "2. How do I overcome negative thinking and embrace a more optimistic outlook?\n",
    "3. What are the best ways to stay positive when facing adversity or challenges?\n",
    "```\n",
    "Generate {num_queries} alternate queries, one on each line, for the following user query:\\n\n",
    "--------------------\n",
    "User Query: {user_query}\\n\n",
    "--------------------\n",
    "\n",
    "Alternate Queries:\\n\n",
    "\"\"\""
   ]
  },
  {
   "cell_type": "code",
   "execution_count": 21,
   "id": "d040f4fe-8f8d-4354-b0c9-2486c087c310",
   "metadata": {},
   "outputs": [],
   "source": [
    "def generate_querys(query, num_query= 4):\n",
    "    prompt = Query_Prompt.format(user_query=query, num_queries=num_query)\n",
    "    response = cohere_client.generate(\n",
    "        model = 'command-xlarge',\n",
    "        prompt=prompt,\n",
    "        max_tokens=100,\n",
    "        temperature=0.7,\n",
    "        k =1,\n",
    "        num_generations=1\n",
    "    )\n",
    "\n",
    "    generated_text = response.generations[0].text.strip()\n",
    "    clean_text = generated_text.split('\\n')\n",
    "    clean_queries = [line.strip() for line in clean_text if line.strip() and line.startswith(('1.', '2.', '3.', '4.'))]\n",
    "\n",
    "    # print(f\"Generated queries:\\n\" + \"\\n\".join(clean_queries))\n",
    "    return clean_queries\n",
    "\n",
    "query = \"How does AI help in diagnosing rare diseases?\"\n",
    "gen_query = generate_querys(query)\n"
   ]
  },
  {
   "cell_type": "code",
   "execution_count": 22,
   "id": "d82576a5-1eee-4164-a3f9-7b68b819f776",
   "metadata": {},
   "outputs": [
    {
     "data": {
      "text/plain": [
       "['1. How can AI assist healthcare professionals in identifying rare diseases?',\n",
       " '2. What algorithms and machine learning models improve diagnosis of rare diseases?',\n",
       " '3. Are there any success stories of AI aiding in the diagnosis of rare illnesses?',\n",
       " '4. What are the potential benefits of using AI for rare disease diagnosis?\"']"
      ]
     },
     "execution_count": 22,
     "metadata": {},
     "output_type": "execute_result"
    }
   ],
   "source": [
    "gen_query"
   ]
  },
  {
   "cell_type": "code",
   "execution_count": null,
   "id": "c6e0d74a-2916-4a37-bff9-28a37f369479",
   "metadata": {},
   "outputs": [],
   "source": []
  }
 ],
 "metadata": {
  "kernelspec": {
   "display_name": "LlamaIndex (LinkedIn Learning)",
   "language": "python",
   "name": "lil_llama_index"
  },
  "language_info": {
   "codemirror_mode": {
    "name": "ipython",
    "version": 3
   },
   "file_extension": ".py",
   "mimetype": "text/x-python",
   "name": "python",
   "nbconvert_exporter": "python",
   "pygments_lexer": "ipython3",
   "version": "3.10.16"
  }
 },
 "nbformat": 4,
 "nbformat_minor": 5
}
