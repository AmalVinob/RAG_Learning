{
 "cells": [
  {
   "cell_type": "code",
   "execution_count": 1,
   "id": "158b3d8a-b19d-4d3b-989b-fbc5f0a58fcf",
   "metadata": {},
   "outputs": [],
   "source": [
    "import requests\n",
    "from pathlib import Path\n",
    "\n",
    "def download_file(url: str, filename: str) -> None:\n",
    "    \"\"\"\n",
    "    Download a file from a URL and save it to a specified location.\n",
    "\n",
    "    Parameters:\n",
    "    url (str): The URL of the file to download.\n",
    "    filename (str): The name to save the file as.\n",
    "\n",
    "    Returns:\n",
    "    None\n",
    "    \"\"\"\n",
    "    # Construct the destination path\n",
    "    destination = Path('../data') / filename\n",
    "    destination.parent.mkdir(parents=True, exist_ok=True)  # Ensure the directory exists\n",
    "\n",
    "    response = requests.get(url)\n",
    "    response.raise_for_status()  # Raise an exception if the request was unsuccessful\n",
    "\n",
    "    with open(destination, 'wb') as f:\n",
    "        f.write(response.content)\n",
    "\n",
    "    print(f\"File downloaded successfully to {destination}\")"
   ]
  },
  {
   "cell_type": "code",
   "execution_count": null,
   "id": "fd66ff9a-11bc-4604-87c6-4bddb78cee64",
   "metadata": {},
   "outputs": [
    {
     "name": "stdout",
     "output_type": "stream",
     "text": [
      "File downloaded successfully to ..\\data\\almanack_of_naval_ravikant.pdf\n"
     ]
    }
   ],
   "source": [
    "url = \"copyright\"\n",
    "\n",
    "download_file(url, \"almanack_of_naval_ravikant.pdf\")"
   ]
  },
  {
   "cell_type": "code",
   "execution_count": 4,
   "id": "07012857-0dc6-4ac8-b811-fa649b8b9330",
   "metadata": {},
   "outputs": [
    {
     "data": {
      "text/plain": [
       "True"
      ]
     },
     "execution_count": 4,
     "metadata": {},
     "output_type": "execute_result"
    }
   ],
   "source": [
    "import os\n",
    "\n",
    "from getpass import getpass\n",
    "import nest_asyncio\n",
    "\n",
    "from dotenv import load_dotenv\n",
    "\n",
    "nest_asyncio.apply()\n",
    "\n",
    "load_dotenv()"
   ]
  },
  {
   "cell_type": "code",
   "execution_count": 5,
   "id": "70173c16-6d7f-4fca-8d65-19f1c234c97f",
   "metadata": {},
   "outputs": [],
   "source": [
    "CO_API_KEY = os.environ['CO_API_KEY'] or getpass(\"Enter your Cohere API key: \")"
   ]
  },
  {
   "cell_type": "code",
   "execution_count": 12,
   "id": "4dfa001b-0ddd-44e8-adda-322b90731dba",
   "metadata": {},
   "outputs": [],
   "source": [
    "from llama_index.llms.cohere import Cohere\n",
    "\n",
    "llm = Cohere(model='command-r-plus', temperature=.2, api_key=CO_API_KEY)\n",
    "response = llm.complete(\"alexander was a great\")\n",
    "response"
   ]
  },
  {
   "cell_type": "code",
   "execution_count": 11,
   "id": "e647f781-2a80-428f-a5a6-05fce5bafe8d",
   "metadata": {},
   "outputs": [
    {
     "name": "stdout",
     "output_type": "stream",
     "text": [
      "id='5e0734f0-a936-42a7-832d-9f73fa7dcc29' prompt='alexander was a great' generations=[SingleGeneration(id='5fb50f49-f1eb-4f2a-8aae-7891dbab37ca', text='Alexander the Great was indeed a remarkable figure in world history, known for his military conquests and the vast empire he built. Here are some reasons why Alexander is considered great:\\n\\n1. Military Genius: Alexander was an exceptional military commander and strategist. By', index=None, likelihood=None, token_likelihoods=None, finish_reason='MAX_TOKENS')] meta=ApiMeta(api_version=ApiMetaApiVersion(version='1', is_deprecated=None, is_experimental=None), billed_units=ApiMetaBilledUnits(input_tokens=5, output_tokens=50, search_units=None, classifications=None), tokens=None, warnings=None)\n"
     ]
    }
   ],
   "source": [
    "from cohere import Client\n",
    "\n",
    "api_key = CO_API_KEY\n",
    "cohere_client = Client(api_key)\n",
    "response = cohere_client.generate(\n",
    "    model='command-r-plus',\n",
    "    prompt=\"alexander was a great\",\n",
    "    max_tokens=50\n",
    ")\n",
    "\n",
    "print(response)\n"
   ]
  },
  {
   "cell_type": "code",
   "execution_count": 13,
   "id": "15d87c5d-6b85-423c-bcc4-02b49c56bc4d",
   "metadata": {},
   "outputs": [
    {
     "data": {
      "text/plain": [
       "{'id_': '49e2c801-978c-4ef5-b861-63488015d899',\n",
       " 'embedding': None,\n",
       " 'metadata': {},\n",
       " 'excluded_embed_metadata_keys': [],\n",
       " 'excluded_llm_metadata_keys': [],\n",
       " 'relationships': {},\n",
       " 'metadata_template': '{key}: {value}',\n",
       " 'metadata_separator': '\\n',\n",
       " 'text_resource': MediaResource(embeddings=None, data=None, text='I am batman', path=None, url=None, mimetype=None),\n",
       " 'image_resource': None,\n",
       " 'audio_resource': None,\n",
       " 'video_resource': None,\n",
       " 'text_template': '{metadata_str}\\n\\n{content}'}"
      ]
     },
     "execution_count": 13,
     "metadata": {},
     "output_type": "execute_result"
    }
   ],
   "source": [
    "from llama_index.core import Document\n",
    "\n",
    "manual_doc = Document(text = \"I am batman\")\n",
    "\n",
    "manual_doc.__dict__"
   ]
  },
  {
   "cell_type": "code",
   "execution_count": 14,
   "id": "1c8d4f04-98b4-4f95-949e-5932012c0cab",
   "metadata": {},
   "outputs": [
    {
     "data": {
      "text/plain": [
       "{'id_': 'cdb91110-74ca-4095-bbb4-71b361fc48f5',\n",
       " 'embedding': None,\n",
       " 'metadata': {'file_name': 'myfile', 'category': 'superhero'},\n",
       " 'excluded_embed_metadata_keys': [],\n",
       " 'excluded_llm_metadata_keys': [],\n",
       " 'relationships': {},\n",
       " 'metadata_template': '{key}: {value}',\n",
       " 'metadata_separator': '\\n',\n",
       " 'text_resource': MediaResource(embeddings=None, data=None, text='i ama batman', path=None, url=None, mimetype=None),\n",
       " 'image_resource': None,\n",
       " 'audio_resource': None,\n",
       " 'video_resource': None,\n",
       " 'text_template': '{metadata_str}\\n\\n{content}'}"
      ]
     },
     "execution_count": 14,
     "metadata": {},
     "output_type": "execute_result"
    }
   ],
   "source": [
    "manual_doc_withmeta = Document(text = \"i ama batman\", metadata= {\"file_name\" : \"myfile\", \"category\" : \"superhero\"})\n",
    "manual_doc_withmeta.__dict__"
   ]
  },
  {
   "cell_type": "code",
   "execution_count": 15,
   "id": "0217f586-0772-4652-a7df-50f2c820ae62",
   "metadata": {},
   "outputs": [
    {
     "data": {
      "text/plain": [
       "{'id_': '49e2c801-978c-4ef5-b861-63488015d899',\n",
       " 'embedding': None,\n",
       " 'metadata': {'category': 'superhero'},\n",
       " 'excluded_embed_metadata_keys': [],\n",
       " 'excluded_llm_metadata_keys': [],\n",
       " 'relationships': {},\n",
       " 'metadata_template': '{key}: {value}',\n",
       " 'metadata_separator': '\\n',\n",
       " 'text_resource': MediaResource(embeddings=None, data=None, text='I am batman', path=None, url=None, mimetype=None),\n",
       " 'image_resource': None,\n",
       " 'audio_resource': None,\n",
       " 'video_resource': None,\n",
       " 'text_template': '{metadata_str}\\n\\n{content}'}"
      ]
     },
     "execution_count": 15,
     "metadata": {},
     "output_type": "execute_result"
    }
   ],
   "source": [
    "manual_doc.metadata = {\"category\" : \"superhero\"}\n",
    "manual_doc.__dict__"
   ]
  },
  {
   "cell_type": "markdown",
   "id": "cb4add1a-a2d2-45c1-808d-160387ab10f0",
   "metadata": {},
   "source": [
    "# Chunking "
   ]
  },
  {
   "cell_type": "code",
   "execution_count": null,
   "id": "865e7fd4-56b4-497e-9348-00d5e21c1e2f",
   "metadata": {},
   "outputs": [],
   "source": [
    "from llama_index.core import SimpleDirectoryReader\n",
    "\n",
    "document = SimpleDirectoryReader(input_files=[\"../data/data.pdf\"]).load_data()"
   ]
  },
  {
   "cell_type": "code",
   "execution_count": 20,
   "id": "48852d51-94d1-412c-8cbb-1e87e3f71458",
   "metadata": {},
   "outputs": [
    {
     "data": {
      "application/vnd.jupyter.widget-view+json": {
       "model_id": "05561a8c3bcd4955b3c8107bbf6553ce",
       "version_major": 2,
       "version_minor": 0
      },
      "text/plain": [
       "Parsing nodes:   0%|          | 0/242 [00:00<?, ?it/s]"
      ]
     },
     "metadata": {},
     "output_type": "display_data"
    }
   ],
   "source": [
    "from llama_index.core.node_parser import SentenceSplitter\n",
    "\n",
    "parser = SentenceSplitter(\n",
    "    chunk_size=128, \n",
    "    chunk_overlap=16,\n",
    "    paragraph_separator=\"\\n\\n\"\n",
    ")\n",
    "\n",
    "\n",
    "nodes = parser.get_nodes_from_documents(documents=document, show_progress=True)"
   ]
  },
  {
   "cell_type": "code",
   "execution_count": 21,
   "id": "6267fb30-952a-411d-85aa-4e2ef690ee30",
   "metadata": {},
   "outputs": [
    {
     "data": {
      "text/plain": [
       "list"
      ]
     },
     "execution_count": 21,
     "metadata": {},
     "output_type": "execute_result"
    }
   ],
   "source": [
    "type(nodes)"
   ]
  },
  {
   "cell_type": "code",
   "execution_count": 22,
   "id": "5b405a33-c1df-4f93-aef9-2a5192e87290",
   "metadata": {},
   "outputs": [
    {
     "data": {
      "text/plain": [
       "TextNode(id_='662b60b6-b888-4435-bc4c-dceb68b48822', embedding=None, metadata={'page_label': '1', 'file_name': 'almanack_of_naval_ravikant.pdf', 'file_path': '..\\\\data\\\\almanack_of_naval_ravikant.pdf', 'file_type': 'application/pdf', 'file_size': 1884309, 'creation_date': '2025-02-27', 'last_modified_date': '2025-02-27'}, excluded_embed_metadata_keys=['file_name', 'file_type', 'file_size', 'creation_date', 'last_modified_date', 'last_accessed_date'], excluded_llm_metadata_keys=['file_name', 'file_type', 'file_size', 'creation_date', 'last_modified_date', 'last_accessed_date'], relationships={<NodeRelationship.SOURCE: '1'>: RelatedNodeInfo(node_id='e9e20c13-d10d-45cb-81d2-5a9b40db0ad9', node_type=<ObjectType.DOCUMENT: '4'>, metadata={'page_label': '1', 'file_name': 'almanack_of_naval_ravikant.pdf', 'file_path': '..\\\\data\\\\almanack_of_naval_ravikant.pdf', 'file_type': 'application/pdf', 'file_size': 1884309, 'creation_date': '2025-02-27', 'last_modified_date': '2025-02-27'}, hash='7d35ad3af63a899e7528f8d496fbbb4a0fa07fd4378d1ee3323b3dff524fbeee')}, metadata_template='{key}: {value}', metadata_separator='\\n', text='THE ALMANACK OF NAVAL RAVIKANT', mimetype='text/plain', start_char_idx=0, end_char_idx=30, metadata_seperator='\\n', text_template='{metadata_str}\\n\\n{content}')"
      ]
     },
     "execution_count": 22,
     "metadata": {},
     "output_type": "execute_result"
    }
   ],
   "source": [
    "nodes[0]"
   ]
  },
  {
   "cell_type": "code",
   "execution_count": 23,
   "id": "304dbe52-a20c-414b-8279-baf77e324654",
   "metadata": {},
   "outputs": [
    {
     "data": {
      "text/plain": [
       "{'id_': '662b60b6-b888-4435-bc4c-dceb68b48822',\n",
       " 'embedding': None,\n",
       " 'metadata': {'page_label': '1',\n",
       "  'file_name': 'almanack_of_naval_ravikant.pdf',\n",
       "  'file_path': '..\\\\data\\\\almanack_of_naval_ravikant.pdf',\n",
       "  'file_type': 'application/pdf',\n",
       "  'file_size': 1884309,\n",
       "  'creation_date': '2025-02-27',\n",
       "  'last_modified_date': '2025-02-27'},\n",
       " 'excluded_embed_metadata_keys': ['file_name',\n",
       "  'file_type',\n",
       "  'file_size',\n",
       "  'creation_date',\n",
       "  'last_modified_date',\n",
       "  'last_accessed_date'],\n",
       " 'excluded_llm_metadata_keys': ['file_name',\n",
       "  'file_type',\n",
       "  'file_size',\n",
       "  'creation_date',\n",
       "  'last_modified_date',\n",
       "  'last_accessed_date'],\n",
       " 'relationships': {<NodeRelationship.SOURCE: '1'>: RelatedNodeInfo(node_id='e9e20c13-d10d-45cb-81d2-5a9b40db0ad9', node_type=<ObjectType.DOCUMENT: '4'>, metadata={'page_label': '1', 'file_name': 'almanack_of_naval_ravikant.pdf', 'file_path': '..\\\\data\\\\almanack_of_naval_ravikant.pdf', 'file_type': 'application/pdf', 'file_size': 1884309, 'creation_date': '2025-02-27', 'last_modified_date': '2025-02-27'}, hash='7d35ad3af63a899e7528f8d496fbbb4a0fa07fd4378d1ee3323b3dff524fbeee')},\n",
       " 'metadata_template': '{key}: {value}',\n",
       " 'metadata_separator': '\\n',\n",
       " 'text': 'THE ALMANACK OF NAVAL RAVIKANT',\n",
       " 'mimetype': 'text/plain',\n",
       " 'start_char_idx': 0,\n",
       " 'end_char_idx': 30,\n",
       " 'metadata_seperator': '\\n',\n",
       " 'text_template': '{metadata_str}\\n\\n{content}'}"
      ]
     },
     "execution_count": 23,
     "metadata": {},
     "output_type": "execute_result"
    }
   ],
   "source": [
    "nodes[0].__dict__"
   ]
  },
  {
   "cell_type": "code",
   "execution_count": null,
   "id": "8b3ccd81-a711-4465-a454-1e8cdfb9300a",
   "metadata": {},
   "outputs": [],
   "source": []
  }
 ],
 "metadata": {
  "kernelspec": {
   "display_name": "LlamaIndex (LinkedIn Learning)",
   "language": "python",
   "name": "lil_llama_index"
  },
  "language_info": {
   "codemirror_mode": {
    "name": "ipython",
    "version": 3
   },
   "file_extension": ".py",
   "mimetype": "text/x-python",
   "name": "python",
   "nbconvert_exporter": "python",
   "pygments_lexer": "ipython3",
   "version": "3.10.16"
  }
 },
 "nbformat": 4,
 "nbformat_minor": 5
}
