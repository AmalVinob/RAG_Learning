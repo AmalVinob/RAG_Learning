{
 "cells": [
  {
   "cell_type": "code",
   "execution_count": 12,
   "id": "9872b1c3-d8b1-4a4a-ad27-1ed5b30898a3",
   "metadata": {},
   "outputs": [
    {
     "data": {
      "text/plain": [
       "True"
      ]
     },
     "execution_count": 12,
     "metadata": {},
     "output_type": "execute_result"
    }
   ],
   "source": [
    "import os\n",
    "\n",
    "from getpass import getpass\n",
    "import nest_asyncio\n",
    "\n",
    "from dotenv import load_dotenv\n",
    "\n",
    "nest_asyncio.apply()\n",
    "\n",
    "load_dotenv()"
   ]
  },
  {
   "cell_type": "code",
   "execution_count": 13,
   "id": "c427a431-dd12-4d88-866f-2cee69323219",
   "metadata": {},
   "outputs": [],
   "source": [
    "CO_API_KEY = os.environ['CO_API_KEY'] or getpass(\"Enter your Cohere API key: \")"
   ]
  },
  {
   "cell_type": "code",
   "execution_count": 16,
   "id": "f04a4e52-9543-446c-b7c7-b006c1fbcd2a",
   "metadata": {},
   "outputs": [
    {
     "name": "stdout",
     "output_type": "stream",
     "text": [
      "Generated Hypothetical Answer: AI has revolutionized the field of medicine and plays a crucial role in diagnosing rare diseases. Through the use of advanced algorithms, machine learning, and pattern recognition technologies, AI-powered diagnostic systems can assist healthcare professionals in several ways:\n",
      "\n",
      "Enhanced Data Analysis: AI can analyze large volumes of data, including the patient's medical history, symptoms, laboratory tests, and other relevant information. By processing this data, AI can identify patterns or anomalies that might suggest the presence of a rare disease. This analytical power can improve the accuracy of diagnoses, especially in cases where the symptoms might be ambiguous or overlap with other conditions.\n",
      "\n",
      "Image Interpretation: AI can process and interpret medical images, such as MRIs, CT scans, or ultrasounds, to identify\n"
     ]
    }
   ],
   "source": [
    "import cohere\n",
    "\n",
    "\n",
    "cohere_api_key = CO_API_KEY\n",
    "cohere_client = cohere.Client(cohere_api_key)\n",
    "\n",
    "Hypothetical_Answer_Prompt = \"\"\"Based on the query provided, generate a plausible, general answer that encapsulates how AI might be used to address this situation.\n",
    "The answer should reflect general knowledge and should not be the final answer, but just an informative and plausible response.\n",
    "\n",
    "User Query: {user_query}\n",
    "\n",
    "Hypothetical Answer:\n",
    "\"\"\"\n",
    "\n",
    "def generate_hypothetical_answer(query):\n",
    "    prompt = Hypothetical_Answer_Prompt.format(user_query=query)\n",
    "    \n",
    "    response = cohere_client.generate(\n",
    "        model='command-xlarge',  # Ensure correct model name\n",
    "        prompt=prompt,\n",
    "        max_tokens=150,          # Adjust token count as needed\n",
    "        temperature=0.7,         # Controls creativity and randomness\n",
    "        num_generations=1        # You want one generation of the answer\n",
    "    )\n",
    "    \n",
    "\n",
    "    hypothetical_answer = response.generations[0].text.strip()\n",
    "    \n",
    "    print(f\"Generated Hypothetical Answer: {hypothetical_answer}\")\n",
    "    return hypothetical_answer\n",
    "    \n",
    "\n",
    "query = \"How does AI help in diagnosing rare diseases?\"\n",
    "hypothetical_answer = generate_hypothetical_answer(query)\n",
    "\n",
    "# Now, you can use both the multi-query variations and the hypothetical answer to retrieve documents\n"
   ]
  },
  {
   "cell_type": "code",
   "execution_count": null,
   "id": "4cdd34fe-4c41-4b34-beb0-5e7f46ac6e2b",
   "metadata": {},
   "outputs": [],
   "source": []
  }
 ],
 "metadata": {
  "kernelspec": {
   "display_name": "LlamaIndex (LinkedIn Learning)",
   "language": "python",
   "name": "lil_llama_index"
  },
  "language_info": {
   "codemirror_mode": {
    "name": "ipython",
    "version": 3
   },
   "file_extension": ".py",
   "mimetype": "text/x-python",
   "name": "python",
   "nbconvert_exporter": "python",
   "pygments_lexer": "ipython3",
   "version": "3.10.16"
  }
 },
 "nbformat": 4,
 "nbformat_minor": 5
}
