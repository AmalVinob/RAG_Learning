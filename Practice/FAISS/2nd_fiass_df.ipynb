{
 "cells": [
  {
   "cell_type": "code",
   "execution_count": 6,
   "id": "cff191d3-b421-4168-98f7-d1dd1c1b6801",
   "metadata": {},
   "outputs": [],
   "source": [
    "import pandas as pd\n",
    "import faiss\n",
    "import numpy as np\n",
    "from langchain.llms import OpenAI\n",
    "from langchain.embeddings import OpenAIEmbeddings\n",
    "import os\n",
    "from sentence_transformers import SentenceTransformer"
   ]
  },
  {
   "cell_type": "code",
   "execution_count": null,
   "id": "627c386a-8360-40f0-ac93-7e001e7ca80e",
   "metadata": {},
   "outputs": [
    {
     "data": {
      "text/html": [
       "<div>\n",
       "<style scoped>\n",
       "    .dataframe tbody tr th:only-of-type {\n",
       "        vertical-align: middle;\n",
       "    }\n",
       "\n",
       "    .dataframe tbody tr th {\n",
       "        vertical-align: top;\n",
       "    }\n",
       "\n",
       "    .dataframe thead th {\n",
       "        text-align: right;\n",
       "    }\n",
       "</style>\n",
       "<table border=\"1\" class=\"dataframe\">\n",
       "  <thead>\n",
       "    <tr style=\"text-align: right;\">\n",
       "      <th></th>\n",
       "      <th>Course ID</th>\n",
       "      <th>Title</th>\n",
       "      <th>Description</th>\n",
       "    </tr>\n",
       "  </thead>\n",
       "  <tbody>\n",
       "    <tr>\n",
       "      <th>0</th>\n",
       "      <td>1001</td>\n",
       "      <td>Architecting Big Data applications</td>\n",
       "      <td>Learn how to architect both simple and complex...</td>\n",
       "    </tr>\n",
       "    <tr>\n",
       "      <th>1</th>\n",
       "      <td>1002</td>\n",
       "      <td>MLOps Essentials: Monitoring Model Drift and Bias</td>\n",
       "      <td>As more and more ML models are developed and d...</td>\n",
       "    </tr>\n",
       "    <tr>\n",
       "      <th>2</th>\n",
       "      <td>1003</td>\n",
       "      <td>Apache Kafka Essential Training: Getting Started</td>\n",
       "      <td>In this course, instructor   introduces Apache...</td>\n",
       "    </tr>\n",
       "    <tr>\n",
       "      <th>3</th>\n",
       "      <td>1004</td>\n",
       "      <td>Applied AI: Building NLP Apps with Hugging Fac...</td>\n",
       "      <td>Explore models designed for common NLP use cas...</td>\n",
       "    </tr>\n",
       "    <tr>\n",
       "      <th>4</th>\n",
       "      <td>1005</td>\n",
       "      <td>Deep Learning : Getting started</td>\n",
       "      <td>Deep learning as a technology has grown leaps ...</td>\n",
       "    </tr>\n",
       "  </tbody>\n",
       "</table>\n",
       "</div>"
      ],
      "text/plain": [
       "   Course ID                                              Title  \\\n",
       "0       1001                 Architecting Big Data applications   \n",
       "1       1002  MLOps Essentials: Monitoring Model Drift and Bias   \n",
       "2       1003   Apache Kafka Essential Training: Getting Started   \n",
       "3       1004  Applied AI: Building NLP Apps with Hugging Fac...   \n",
       "4       1005                    Deep Learning : Getting started   \n",
       "\n",
       "                                         Description  \n",
       "0  Learn how to architect both simple and complex...  \n",
       "1  As more and more ML models are developed and d...  \n",
       "2  In this course, instructor   introduces Apache...  \n",
       "3  Explore models designed for common NLP use cas...  \n",
       "4  Deep learning as a technology has grown leaps ...  "
      ]
     },
     "execution_count": 3,
     "metadata": {},
     "output_type": "execute_result"
    }
   ],
   "source": [
    "df = pd.read_csv('C:/course-descriptions.csv')\n",
    "df.head()"
   ]
  },
  {
   "cell_type": "code",
   "execution_count": 7,
   "id": "1a94cfe0-1c22-46de-8a65-e5bc8748dae7",
   "metadata": {},
   "outputs": [
    {
     "data": {
      "application/vnd.jupyter.widget-view+json": {
       "model_id": "72a5b1a06e7040ebab084c9f376bcf48",
       "version_major": 2,
       "version_minor": 0
      },
      "text/plain": [
       "modules.json:   0%|          | 0.00/349 [00:00<?, ?B/s]"
      ]
     },
     "metadata": {},
     "output_type": "display_data"
    },
    {
     "name": "stderr",
     "output_type": "stream",
     "text": [
      "C:\\Users\\1090135\\AppData\\Local\\anaconda3\\Lib\\site-packages\\huggingface_hub\\file_download.py:140: UserWarning: `huggingface_hub` cache-system uses symlinks by default to efficiently store duplicated files but your machine does not support them in C:\\Users\\1090135\\.cache\\huggingface\\hub\\models--sentence-transformers--all-MiniLM-L6-v2. Caching files will still work but in a degraded version that might require more space on your disk. This warning can be disabled by setting the `HF_HUB_DISABLE_SYMLINKS_WARNING` environment variable. For more details, see https://huggingface.co/docs/huggingface_hub/how-to-cache#limitations.\n",
      "To support symlinks on Windows, you either need to activate Developer Mode or to run Python as an administrator. In order to activate developer mode, see this article: https://docs.microsoft.com/en-us/windows/apps/get-started/enable-your-device-for-development\n",
      "  warnings.warn(message)\n"
     ]
    },
    {
     "data": {
      "application/vnd.jupyter.widget-view+json": {
       "model_id": "b52e0441d66c49b796bdc34fe596f3d7",
       "version_major": 2,
       "version_minor": 0
      },
      "text/plain": [
       "config_sentence_transformers.json:   0%|          | 0.00/116 [00:00<?, ?B/s]"
      ]
     },
     "metadata": {},
     "output_type": "display_data"
    },
    {
     "data": {
      "application/vnd.jupyter.widget-view+json": {
       "model_id": "c095d5b53f7444af96570011bfd3c442",
       "version_major": 2,
       "version_minor": 0
      },
      "text/plain": [
       "README.md:   0%|          | 0.00/10.7k [00:00<?, ?B/s]"
      ]
     },
     "metadata": {},
     "output_type": "display_data"
    },
    {
     "data": {
      "application/vnd.jupyter.widget-view+json": {
       "model_id": "6e3baf80ac064b61bf7df154cd6ae170",
       "version_major": 2,
       "version_minor": 0
      },
      "text/plain": [
       "sentence_bert_config.json:   0%|          | 0.00/53.0 [00:00<?, ?B/s]"
      ]
     },
     "metadata": {},
     "output_type": "display_data"
    },
    {
     "data": {
      "application/vnd.jupyter.widget-view+json": {
       "model_id": "b87d25ffff8d4571993c2a770a285585",
       "version_major": 2,
       "version_minor": 0
      },
      "text/plain": [
       "config.json:   0%|          | 0.00/612 [00:00<?, ?B/s]"
      ]
     },
     "metadata": {},
     "output_type": "display_data"
    },
    {
     "data": {
      "application/vnd.jupyter.widget-view+json": {
       "model_id": "8ac8f358523544bdbf84b5cccc453f3e",
       "version_major": 2,
       "version_minor": 0
      },
      "text/plain": [
       "model.safetensors:   0%|          | 0.00/90.9M [00:00<?, ?B/s]"
      ]
     },
     "metadata": {},
     "output_type": "display_data"
    },
    {
     "data": {
      "application/vnd.jupyter.widget-view+json": {
       "model_id": "0c45ddfeb56d4560bf956e1de8e5a3f2",
       "version_major": 2,
       "version_minor": 0
      },
      "text/plain": [
       "tokenizer_config.json:   0%|          | 0.00/350 [00:00<?, ?B/s]"
      ]
     },
     "metadata": {},
     "output_type": "display_data"
    },
    {
     "data": {
      "application/vnd.jupyter.widget-view+json": {
       "model_id": "4934eec81f3842e49e6c5a30ef6dde28",
       "version_major": 2,
       "version_minor": 0
      },
      "text/plain": [
       "vocab.txt:   0%|          | 0.00/232k [00:00<?, ?B/s]"
      ]
     },
     "metadata": {},
     "output_type": "display_data"
    },
    {
     "data": {
      "application/vnd.jupyter.widget-view+json": {
       "model_id": "c3f2f6c5fdbc47748e2e07e256bea0dc",
       "version_major": 2,
       "version_minor": 0
      },
      "text/plain": [
       "tokenizer.json:   0%|          | 0.00/466k [00:00<?, ?B/s]"
      ]
     },
     "metadata": {},
     "output_type": "display_data"
    },
    {
     "data": {
      "application/vnd.jupyter.widget-view+json": {
       "model_id": "481370dd6a754a8aafe806774365c4bc",
       "version_major": 2,
       "version_minor": 0
      },
      "text/plain": [
       "special_tokens_map.json:   0%|          | 0.00/112 [00:00<?, ?B/s]"
      ]
     },
     "metadata": {},
     "output_type": "display_data"
    },
    {
     "data": {
      "application/vnd.jupyter.widget-view+json": {
       "model_id": "a034333f13014219a00975d9827ad8fc",
       "version_major": 2,
       "version_minor": 0
      },
      "text/plain": [
       "1_Pooling%2Fconfig.json:   0%|          | 0.00/190 [00:00<?, ?B/s]"
      ]
     },
     "metadata": {},
     "output_type": "display_data"
    }
   ],
   "source": [
    "# Initialize sentence transformer model\n",
    "model = SentenceTransformer('all-MiniLM-L6-v2')"
   ]
  },
  {
   "cell_type": "code",
   "execution_count": 8,
   "id": "030ae255-f53e-499c-beb4-46267a67a4d4",
   "metadata": {},
   "outputs": [],
   "source": [
    "course_description = df['Description'].tolist()"
   ]
  },
  {
   "cell_type": "code",
   "execution_count": 10,
   "id": "7ea4beb3-8f33-4bec-9372-d24865ea0d84",
   "metadata": {},
   "outputs": [
    {
     "name": "stdout",
     "output_type": "stream",
     "text": [
      "embedding size : 384\n"
     ]
    }
   ],
   "source": [
    "embedding = model.encode(course_description, convert_to_numpy=True)\n",
    "print(f'embedding size : {embedding.shape[1]}')"
   ]
  },
  {
   "cell_type": "code",
   "execution_count": 11,
   "id": "a3e6822b-6250-474b-aba7-d7a9f544c985",
   "metadata": {},
   "outputs": [
    {
     "name": "stdout",
     "output_type": "stream",
     "text": [
      "embedding size : (5, 384)\n"
     ]
    }
   ],
   "source": [
    "print(f'embedding size : {embedding.shape}')"
   ]
  },
  {
   "cell_type": "markdown",
   "id": "0340545d-b7f6-496c-85ad-bfa64c94ad15",
   "metadata": {},
   "source": [
    "# Store Embeddings with Faiss"
   ]
  },
  {
   "cell_type": "code",
   "execution_count": 14,
   "id": "53d920dc-a723-4862-b37b-9eed630cdd95",
   "metadata": {},
   "outputs": [],
   "source": [
    "# 384 is the size of the vector\n",
    "dimension = embedding.shape[1]\n",
    "\n",
    "index = faiss.IndexFlatL2(dimension)"
   ]
  },
  {
   "cell_type": "markdown",
   "id": "dc57b9c2-5a8a-4bf8-8321-a59a7ff3e3c9",
   "metadata": {},
   "source": [
    "ADD the embedding to the faiss index"
   ]
  },
  {
   "cell_type": "code",
   "execution_count": 15,
   "id": "068271d4-abf3-4914-b744-14b87e4dd8af",
   "metadata": {},
   "outputs": [],
   "source": [
    "index.add(embedding)"
   ]
  },
  {
   "cell_type": "markdown",
   "id": "bf31c6bb-1cfa-4fd1-b5e4-87d9a7a52dce",
   "metadata": {},
   "source": [
    "# Searching with Faiss"
   ]
  },
  {
   "cell_type": "code",
   "execution_count": 17,
   "id": "0ad23c0d-8e93-4fbf-beff-fb73f2bae53f",
   "metadata": {},
   "outputs": [],
   "source": [
    "Query = 'What is the best course for deeplearning?'\n",
    "\n",
    "Query_embedding = model.encode([Query], convert_to_numpy=True)\n",
    "\n",
    "k = 3\n",
    "\n",
    "distance, indices = index.search(Query_embedding, k)"
   ]
  },
  {
   "cell_type": "code",
   "execution_count": 18,
   "id": "e187da02-1db1-4906-8486-bd7a682b836d",
   "metadata": {},
   "outputs": [
    {
     "name": "stdout",
     "output_type": "stream",
     "text": [
      "index : [[4 0 3]]\n"
     ]
    }
   ],
   "source": [
    "print(f'index : {indices}')"
   ]
  },
  {
   "cell_type": "code",
   "execution_count": 19,
   "id": "efa250cd-ab8d-4e50-8564-7bc2597e271c",
   "metadata": {},
   "outputs": [
    {
     "data": {
      "text/plain": [
       "Index(['Course ID', 'Title', 'Description'], dtype='object')"
      ]
     },
     "execution_count": 19,
     "metadata": {},
     "output_type": "execute_result"
    }
   ],
   "source": [
    "df.columns"
   ]
  },
  {
   "cell_type": "code",
   "execution_count": 23,
   "id": "49cc6091-1df5-4b76-aa48-bff513287168",
   "metadata": {},
   "outputs": [
    {
     "name": "stdout",
     "output_type": "stream",
     "text": [
      "top 3 matching course : \n",
      "courseid : 1005, distance is : 0.958468496799469\n",
      "courseid : 1001, distance is : 1.6306434869766235\n",
      "courseid : 1004, distance is : 1.6766505241394043\n"
     ]
    }
   ],
   "source": [
    "print('top 3 matching course : ')\n",
    "for i in range(k):\n",
    "    print(f\"courseid : {df['Course ID'].iloc[indices[0, i]]}, distance is : {distance[0][i]}\")"
   ]
  },
  {
   "cell_type": "code",
   "execution_count": 26,
   "id": "ba18427f-0555-4dc7-b71f-33a97b6fbe62",
   "metadata": {},
   "outputs": [
    {
     "name": "stdout",
     "output_type": "stream",
     "text": [
      "top 3 matching course : \n",
      "courseid : Deep Learning : Getting started\n",
      "courseid : Architecting Big Data applications\n",
      "courseid : Applied AI: Building NLP Apps with Hugging Face Transformers\n"
     ]
    }
   ],
   "source": [
    "print('top 3 matching course : ')\n",
    "for i in range(k):\n",
    "    print(f\"courseid : {df['Title'].iloc[indices[0][i]]}\")"
   ]
  },
  {
   "cell_type": "code",
   "execution_count": null,
   "id": "48f0f181-48ff-4626-91b1-d2c85eda27a2",
   "metadata": {},
   "outputs": [],
   "source": []
  }
 ],
 "metadata": {
  "kernelspec": {
   "display_name": "Python 3 (ipykernel)",
   "language": "python",
   "name": "python3"
  },
  "language_info": {
   "codemirror_mode": {
    "name": "ipython",
    "version": 3
   },
   "file_extension": ".py",
   "mimetype": "text/x-python",
   "name": "python",
   "nbconvert_exporter": "python",
   "pygments_lexer": "ipython3",
   "version": "3.12.7"
  }
 },
 "nbformat": 4,
 "nbformat_minor": 5
}
