{
 "cells": [
  {
   "cell_type": "code",
   "execution_count": 3,
   "id": "76c455c4-352e-472f-9311-8165e3e619e8",
   "metadata": {},
   "outputs": [
    {
     "name": "stdout",
     "output_type": "stream",
     "text": [
      "Collecting nbimporter\n",
      "  Downloading nbimporter-0.3.4-py3-none-any.whl.metadata (252 bytes)\n",
      "Downloading nbimporter-0.3.4-py3-none-any.whl (4.9 kB)\n",
      "Installing collected packages: nbimporter\n",
      "Successfully installed nbimporter-0.3.4\n",
      "Note: you may need to restart the kernel to use updated packages.\n"
     ]
    }
   ],
   "source": [
    "pip install nbimporter\n"
   ]
  },
  {
   "cell_type": "code",
   "execution_count": 15,
   "id": "c4e1625a-f57b-40a6-9187-006b82cd4de6",
   "metadata": {},
   "outputs": [],
   "source": []
  },
  {
   "cell_type": "code",
   "execution_count": 16,
   "id": "b3b14fb3-f99f-496a-a756-fd237a78c550",
   "metadata": {},
   "outputs": [
    {
     "data": {
      "text/plain": [
       "True"
      ]
     },
     "execution_count": 16,
     "metadata": {},
     "output_type": "execute_result"
    }
   ],
   "source": [
    "import os\n",
    "\n",
    "from getpass import getpass\n",
    "import nest_asyncio\n",
    "\n",
    "from dotenv import load_dotenv\n",
    "\n",
    "nest_asyncio.apply()\n",
    "\n",
    "load_dotenv()"
   ]
  },
  {
   "cell_type": "code",
   "execution_count": 17,
   "id": "dc646642-50ea-4674-9a68-46e57dc1dfc0",
   "metadata": {},
   "outputs": [],
   "source": [
    "CO_API_KEY = os.environ['CO_API_KEY'] or getpass(\"Enter your Cohere API key: \")"
   ]
  },
  {
   "cell_type": "code",
   "execution_count": 18,
   "id": "63d1ce51-d215-4233-bf1b-c8457ff644bd",
   "metadata": {},
   "outputs": [],
   "source": [
    "query_processer = QueryProcessor(CO_API_KEY)\n"
   ]
  },
  {
   "cell_type": "code",
   "execution_count": 19,
   "id": "79cd899d-b5ca-4cb3-b143-2eb00ed814c1",
   "metadata": {},
   "outputs": [],
   "source": [
    "query = 'how does AI helps in making decisions in medical field'"
   ]
  },
  {
   "cell_type": "code",
   "execution_count": 20,
   "id": "9e6d3c77-da04-4246-9e42-832797d3f679",
   "metadata": {},
   "outputs": [
    {
     "name": "stdout",
     "output_type": "stream",
     "text": [
      "generated query : \n",
      "\n"
     ]
    },
    {
     "data": {
      "text/plain": [
       "['1. How can AI assist physicians in making diagnoses and choosing treatments?',\n",
       " '2. Can AI accurately predict disease spread or progression and aid treatment selection?',\n",
       " '3. How can AI improve surgical decisions and outcomes?',\n",
       " '4. What is the role of AI in assisting nurses and pharmacists in their decision-making?']"
      ]
     },
     "execution_count": 20,
     "metadata": {},
     "output_type": "execute_result"
    }
   ],
   "source": [
    "generated_query = query_processer.generate_queries(query)\n",
    "print(\"generated query : \\n\")\n",
    "generated_query"
   ]
  },
  {
   "cell_type": "code",
   "execution_count": 21,
   "id": "18db5e06-ee23-4f64-987d-f47168519f35",
   "metadata": {},
   "outputs": [
    {
     "name": "stdout",
     "output_type": "stream",
     "text": [
      "\n",
      "Hypothetical Answer:\n",
      "AI plays a crucial role in the medical field, particularly in diagnostic imaging, such as MRI scans and CT scans. Scientists program AI algorithms to identify and analyze these images, diagnosing and detecting diseases, and assisting highly specialized radiologists in coming to more informed conclusions and treatment plans. AI can also contribute to the medical field by streamlining data to provide medical professionals with relevant information when deciding on treatment plans and medications. With the help of AI, medical professionals can make decisions based on aggregated information relating to the specifics of their patient's symptoms, illnesses, and cases.\n"
     ]
    }
   ],
   "source": [
    "hypothetical_answer = query_processer.generate_hypothetical_answer(query)\n",
    "print(\"\\nHypothetical Answer:\")\n",
    "print(hypothetical_answer)"
   ]
  }
 ],
 "metadata": {
  "kernelspec": {
   "display_name": "LlamaIndex (LinkedIn Learning)",
   "language": "python",
   "name": "lil_llama_index"
  },
  "language_info": {
   "codemirror_mode": {
    "name": "ipython",
    "version": 3
   },
   "file_extension": ".py",
   "mimetype": "text/x-python",
   "name": "python",
   "nbconvert_exporter": "python",
   "pygments_lexer": "ipython3",
   "version": "3.10.16"
  }
 },
 "nbformat": 4,
 "nbformat_minor": 5
}
