{
 "cells": [
  {
   "cell_type": "code",
   "execution_count": 1,
   "id": "93a6d9ba-b7dc-4aa6-a9d8-c2e6dd2ab85a",
   "metadata": {},
   "outputs": [],
   "source": [
    "import faiss\n",
    "import numpy as np"
   ]
  },
  {
   "cell_type": "markdown",
   "id": "91d6e4b2-8dd1-4b78-b5fb-b561e1832693",
   "metadata": {},
   "source": [
    "## Generate Random Data (Vectors)"
   ]
  },
  {
   "cell_type": "code",
   "execution_count": 2,
   "id": "cd73e504-8cb3-43da-afcc-648f7ad4a4b6",
   "metadata": {},
   "outputs": [
    {
     "data": {
      "text/plain": [
       "array([[0.9111588 , 0.00230304, 0.08145921, ..., 0.9097216 , 0.34790474,\n",
       "        0.44785148],\n",
       "       [0.8080919 , 0.18920639, 0.51820844, ..., 0.31317604, 0.00619393,\n",
       "        0.32726598],\n",
       "       [0.54094696, 0.0862287 , 0.21088399, ..., 0.03956298, 0.8415694 ,\n",
       "        0.0322605 ],\n",
       "       ...,\n",
       "       [0.4897907 , 0.36247817, 0.7902989 , ..., 0.47860926, 0.2825015 ,\n",
       "        0.18486695],\n",
       "       [0.9303571 , 0.26425993, 0.4022094 , ..., 0.5873805 , 0.4586839 ,\n",
       "        0.39962792],\n",
       "       [0.24969232, 0.80149555, 0.94745684, ..., 0.12798944, 0.8219062 ,\n",
       "        0.5152512 ]], dtype=float32)"
      ]
     },
     "execution_count": 2,
     "metadata": {},
     "output_type": "execute_result"
    }
   ],
   "source": [
    "num_vectors = 1000\n",
    "dim = 128\n",
    "\n",
    "\n",
    "vectors = np.random.random((num_vectors, dim)).astype('float32')\n",
    "\n",
    "vectors"
   ]
  },
  {
   "cell_type": "markdown",
   "id": "0fee0bb1-9872-4151-9e6e-950abedcc970",
   "metadata": {},
   "source": [
    "# Create a FAISS Index"
   ]
  },
  {
   "cell_type": "markdown",
   "id": "8e21e4f4-ab0b-402e-b0ec-70ea37908934",
   "metadata": {},
   "source": [
    "An index is essentially a data structure used to efficiently search for the nearest neighbors in the vector space."
   ]
  },
  {
   "cell_type": "markdown",
   "id": "25254df4-df1c-4a53-9d20-5df26b2ec85f",
   "metadata": {},
   "source": [
    "Let’s create an IndexFlatL2 index, which uses the L2 distance (Euclidean distance) for nearest neighbor search."
   ]
  },
  {
   "cell_type": "code",
   "execution_count": 9,
   "id": "323ee7a1-a52b-4416-a94a-a84cde2cc0ea",
   "metadata": {},
   "outputs": [],
   "source": [
    "index = faiss.IndexFlatL2(dim)"
   ]
  },
  {
   "cell_type": "code",
   "execution_count": 10,
   "id": "64a37af7-5391-45d7-81d9-97b8f75e0d3f",
   "metadata": {},
   "outputs": [
    {
     "name": "stdout",
     "output_type": "stream",
     "text": [
      "IS index Trained : True\n"
     ]
    }
   ],
   "source": [
    "print(f\"IS index Trained : {index.is_trained}\")"
   ]
  },
  {
   "cell_type": "markdown",
   "id": "700bc7a0-743e-4f48-bf6d-c7a83291def6",
   "metadata": {},
   "source": [
    "For more complex searches, FAISS also supports other indexes such as IVF (Inverted File Index) and HNSW (Hierarchical Navigable Small World graphs). But IndexFlatL2 is simple and works well for smaller datasets or testing."
   ]
  },
  {
   "cell_type": "markdown",
   "id": "ab7ac3a9-e9ce-46f4-bd50-b828639f5909",
   "metadata": {},
   "source": [
    "## Add Vectors to the Index"
   ]
  },
  {
   "cell_type": "code",
   "execution_count": 11,
   "id": "d3d444b0-4e6e-4133-ada3-6be86b6381c9",
   "metadata": {},
   "outputs": [
    {
     "name": "stdout",
     "output_type": "stream",
     "text": [
      "total number of index : 1000\n"
     ]
    }
   ],
   "source": [
    "index.add(vectors)\n",
    "\n",
    "print(f\"total number of index : {index.ntotal}\")"
   ]
  },
  {
   "cell_type": "markdown",
   "id": "40e656fc-fcf3-4d97-9f91-aa33ec46cd12",
   "metadata": {},
   "source": [
    "## Search for Nearest Neighbors"
   ]
  },
  {
   "cell_type": "code",
   "execution_count": 14,
   "id": "2f632ee8-dc23-47a2-b8c2-994c05d29ec8",
   "metadata": {},
   "outputs": [
    {
     "name": "stdout",
     "output_type": "stream",
     "text": [
      "nearest neighbor = [[15.265417 15.52211  15.656538 15.705608 15.858515]]\n",
      "indices : [[169 982 263 379 135]]\n"
     ]
    }
   ],
   "source": [
    "query_vect = np.random.random((1, dim)).astype('float32')\n",
    "\n",
    "# Find the 5 nearest neighbor\n",
    "k = 5\n",
    "distances, indices = index.search(query_vect, k)\n",
    "\n",
    "print(f'nearest neighbor = {distances}')\n",
    "print(f'indices : {indices}')"
   ]
  },
  {
   "cell_type": "markdown",
   "id": "3ccde755-b00d-44b9-93bc-e2de9cc392cd",
   "metadata": {},
   "source": [
    "# kmeans"
   ]
  },
  {
   "cell_type": "code",
   "execution_count": 17,
   "id": "6bc3e5e5-b28d-4a5a-ace2-4a805812b310",
   "metadata": {},
   "outputs": [
    {
     "name": "stdout",
     "output_type": "stream",
     "text": [
      "[[0.49164623 0.47379702 0.50735193 0.55930084 0.5660486  0.49740916\n",
      "  0.5279886  0.4755358  0.51397824 0.55433804 0.50143623 0.4975144\n",
      "  0.5581958  0.50761443 0.46180502 0.53218466 0.54152364 0.50299793\n",
      "  0.5287189  0.49983895 0.5402887  0.45184365 0.42239    0.48616847\n",
      "  0.455407   0.5496139  0.54311657 0.57695484 0.51840156 0.4204709\n",
      "  0.48356608 0.550754   0.5004508  0.5086872  0.46641454 0.4798862\n",
      "  0.5613355  0.5872064  0.5930706  0.49161938 0.56078947 0.49792632\n",
      "  0.5512023  0.4826912  0.51173514 0.483661   0.47082013 0.4134657\n",
      "  0.50804186 0.4968574  0.5437819  0.45483676 0.5265093  0.53929627\n",
      "  0.5001473  0.5746272  0.5115037  0.43561682 0.5681642  0.5507187\n",
      "  0.5376441  0.46695668 0.48314974 0.5188913  0.5396886  0.5370281\n",
      "  0.48142353 0.48756236 0.5131599  0.50367475 0.48451054 0.5308282\n",
      "  0.46740705 0.45293507 0.5350937  0.48011622 0.48900065 0.4715013\n",
      "  0.4933333  0.5084192  0.46687022 0.5205309  0.4905006  0.4913374\n",
      "  0.42434797 0.53138596 0.5154473  0.5490562  0.45467326 0.5230514\n",
      "  0.46127266 0.5811116  0.49423417 0.5184443  0.5370336  0.494685\n",
      "  0.46930763 0.5349161  0.5138762  0.5356782  0.49326017 0.47820485\n",
      "  0.5112958  0.50320655 0.519085   0.48656657 0.52135664 0.5060104\n",
      "  0.55047804 0.52512413 0.42520145 0.54806614 0.55721056 0.53356296\n",
      "  0.50443345 0.51019084 0.4899572  0.4934724  0.51633304 0.52645314\n",
      "  0.5179821  0.51319206 0.5148859  0.5075035  0.5368067  0.542607\n",
      "  0.44718143 0.5060291 ]\n",
      " [0.49246353 0.50495654 0.54763347 0.46034127 0.50386876 0.55860335\n",
      "  0.47113186 0.42904174 0.4574894  0.50164837 0.4658802  0.583654\n",
      "  0.46815097 0.46972382 0.5304822  0.498657   0.4850669  0.47705844\n",
      "  0.5219559  0.50273955 0.47621417 0.54686314 0.5214845  0.5292116\n",
      "  0.54697806 0.46623713 0.44512686 0.4784561  0.47225922 0.57451373\n",
      "  0.5459665  0.44357985 0.55054426 0.5481419  0.42749062 0.45071933\n",
      "  0.47648898 0.4613724  0.51757675 0.44480702 0.41903013 0.57446945\n",
      "  0.40572324 0.51238453 0.47844094 0.5491024  0.47509393 0.5071929\n",
      "  0.5485708  0.5092702  0.47673312 0.5389552  0.5079832  0.46337324\n",
      "  0.5108873  0.4440469  0.43413663 0.5731105  0.46998894 0.5624002\n",
      "  0.50054497 0.5486975  0.48076102 0.51858103 0.5632053  0.470309\n",
      "  0.54442793 0.55397993 0.61283475 0.47325307 0.58298    0.42727172\n",
      "  0.46136048 0.5070907  0.49908444 0.5442784  0.45976776 0.56639\n",
      "  0.44888607 0.41549525 0.5246743  0.5225909  0.54707277 0.56493217\n",
      "  0.53972465 0.49190596 0.4991863  0.5056274  0.5515933  0.46813983\n",
      "  0.51284647 0.4941888  0.47429264 0.5030013  0.4918858  0.52469254\n",
      "  0.4855732  0.49347928 0.47353223 0.42887422 0.43892935 0.48561844\n",
      "  0.46498632 0.49431658 0.4089064  0.51512724 0.46938166 0.5101124\n",
      "  0.45047742 0.42697683 0.50400877 0.42829072 0.50053924 0.52508634\n",
      "  0.45248193 0.5145893  0.4896207  0.4624818  0.51183176 0.5097053\n",
      "  0.5048735  0.5297596  0.4947661  0.45305547 0.5290331  0.4596064\n",
      "  0.54937994 0.54793197]\n",
      " [0.49849382 0.49142894 0.43666273 0.45791337 0.42872694 0.48082545\n",
      "  0.5432252  0.5986215  0.5164455  0.4395016  0.5522013  0.464409\n",
      "  0.48252288 0.5133565  0.46280605 0.46849337 0.5202612  0.495313\n",
      "  0.47776958 0.53492534 0.43908963 0.4865066  0.5761589  0.4769604\n",
      "  0.48226973 0.49258354 0.4944862  0.4392295  0.47231075 0.5203592\n",
      "  0.50336957 0.4951491  0.47507587 0.5124532  0.5362226  0.57706285\n",
      "  0.48592252 0.4642803  0.43671378 0.5707479  0.53893226 0.4858286\n",
      "  0.54672647 0.51122946 0.5137816  0.42837012 0.5330756  0.48041466\n",
      "  0.5341914  0.45082802 0.46231773 0.5259791  0.53448975 0.50149894\n",
      "  0.50634897 0.51473624 0.4989424  0.5401979  0.42774823 0.4498069\n",
      "  0.44939107 0.49379438 0.538045   0.51052284 0.40571168 0.45769\n",
      "  0.50509346 0.46489778 0.38482857 0.5153237  0.44436827 0.5062024\n",
      "  0.54950964 0.54350746 0.5055826  0.49169835 0.5362715  0.49124902\n",
      "  0.4656284  0.49416173 0.51381814 0.52012664 0.48472503 0.47790486\n",
      "  0.53718156 0.4988947  0.48175132 0.48304993 0.48605636 0.48611838\n",
      "  0.54033923 0.4752636  0.5080242  0.4842105  0.4317688  0.4905455\n",
      "  0.49314824 0.48870024 0.4915933  0.5192904  0.5489368  0.5353629\n",
      "  0.50365096 0.46086332 0.55461204 0.507527   0.5276235  0.47080088\n",
      "  0.45047274 0.48382133 0.56851983 0.48385635 0.48178795 0.42392418\n",
      "  0.5486132  0.4508758  0.46131405 0.531399   0.45292985 0.5271124\n",
      "  0.4831942  0.5151932  0.44831765 0.5383287  0.41587836 0.48060802\n",
      "  0.5335593  0.49102873]]\n"
     ]
    }
   ],
   "source": [
    "vector = np.random.random((1000, 128)).astype('float32')\n",
    "\n",
    "k = 3\n",
    "kmeans = faiss.Kmeans(d=128, k = k, niter=30, verbose=True)\n",
    "kmeans.train(vector)\n",
    "\n",
    "\n",
    "print(kmeans.centroids)"
   ]
  },
  {
   "cell_type": "markdown",
   "id": "b8c17db7-dc49-4387-9759-94406124982f",
   "metadata": {},
   "source": [
    "# Product Quantization (PQ) for Memory Efficiency"
   ]
  },
  {
   "cell_type": "code",
   "execution_count": 19,
   "id": "60a95cb4-313c-4d4e-9d7b-c68ed4aca73b",
   "metadata": {},
   "outputs": [],
   "source": [
    "quatizer = faiss.IndexFlatL2(dim)\n",
    "pq_index = faiss.IndexIVFPQ(quatizer, dim, 100, 8, 8)"
   ]
  },
  {
   "cell_type": "markdown",
   "id": "d62078a1-4ddf-4155-a2de-f45b59b4e9ca",
   "metadata": {},
   "source": [
    "IndexIVFPQ is the actual Product Quantization index you're creating. It combines Inverted File (IVF) and Product Quantization (PQ) for efficient nearest neighbor search."
   ]
  },
  {
   "cell_type": "markdown",
   "id": "a74e4809-666f-4139-afb5-34dcf977a80f",
   "metadata": {},
   "source": [
    "IVF (Inverted File) is a technique used to partition the dataset into separate cells or clusters, which helps reduce the search space when performing a nearest neighbor search. It works by dividing the dataset into multiple \"buckets\", so instead of searching the entire dataset, you only need to search within the most relevant bucket (cell). This drastically speeds up the search process."
   ]
  },
  {
   "cell_type": "markdown",
   "id": "ecb8fcb3-738c-4a51-a121-09886bc52b83",
   "metadata": {},
   "source": [
    "Product Quantization (PQ) is a technique used to compress the representation of vectors while retaining the ability to perform accurate searches. It works by splitting a vector into smaller subspaces (parts) and quantizing each subspace separately. This reduces the memory required to store the vectors and speeds up the distance calculations during the search."
   ]
  },
  {
   "cell_type": "markdown",
   "id": "0ec08b05-585e-4557-baca-15c693bfa1d5",
   "metadata": {},
   "source": [
    "# Steps of Searching with Product Quantization (PQ)\n",
    "Splitting the Query Vector:\n",
    "\n",
    "When you issue a search with a query vector, the query vector is split in the same way as the indexed vectors.\n",
    "For example, if you have an 8 subquantizer setting, the 128-dimensional query vector will be split into 8 subspaces, each with 16 dimensions.\n",
    "So, if you are searching with a query vector, it gets split into smaller chunks, just like the vectors in your index.\n",
    "Quantizing the Query Vector:\n",
    "\n",
    "Each subspace of the query vector is compared to the codebook that was learned during the training phase.\n",
    "For each subspace (part of the vector), the algorithm checks which code from the corresponding codebook is the closest to the query subspace. These codebooks are essentially small, predefined representations of each subspace.\n",
    "So, instead of working with the full 128-dimensional vector directly, the query vector is represented by a set of quantized codes that correspond to the closest matches in each subspace.\n",
    "Searching for the Closest Match:\n",
    "\n",
    "Now that the query has been quantized into a set of codes (one code for each subspace), the search begins.\n",
    "The system compares the query codes with the codes stored in the index.\n",
    "The indexed vectors are also stored as sets of codes (not as full 128-dimensional vectors) since they were quantized during the training phase.\n",
    "Distance Calculation (Distance between Codes):\n",
    "\n",
    "For each query code, the algorithm calculates the distance (usually using Euclidean distance or a similar metric) between the query code and the stored codes in the index.\n",
    "This step is much faster because you're comparing smaller codes (quantized representations) rather than full high-dimensional vectors.\n",
    "Retrieving the Data:\n",
    "\n",
    "Once the closest codes are found, the algorithm retrieves the corresponding full vectors that were stored in the index.\n",
    "These full vectors are the original, non-compressed vectors (the actual data points) that match the closest codes.\n",
    "Rank and Return Results:\n",
    "\n",
    "The search returns the top-k closest vectors to the query vector, based on the distance between their quantized codes.\n",
    "The final results are ranked by distance, and the corresponding original vectors are returned as the search result."
   ]
  },
  {
   "cell_type": "code",
   "execution_count": 20,
   "id": "7a8b3d8a-b2f0-4290-834c-4f01458247cf",
   "metadata": {},
   "outputs": [],
   "source": [
    "quatizer = faiss.IndexFlatL2(dim)\n",
    "pq_index = faiss.IndexIVFPQ(quatizer, dim, 100, 8, 8)"
   ]
  },
  {
   "cell_type": "code",
   "execution_count": 21,
   "id": "d4f5c7f2-6449-409e-a7ce-aab325091649",
   "metadata": {},
   "outputs": [],
   "source": [
    "# Train the index (requires at least a sample of your dataset)\n",
    "pq_index.train(vector)"
   ]
  },
  {
   "cell_type": "code",
   "execution_count": 22,
   "id": "0a222bc7-327d-47c2-b980-38789175e531",
   "metadata": {},
   "outputs": [],
   "source": [
    "pq_index.add(vector)"
   ]
  },
  {
   "cell_type": "code",
   "execution_count": 23,
   "id": "f2055f33-175c-4c33-8041-819c75585fe2",
   "metadata": {},
   "outputs": [],
   "source": [
    "query_vect = np.random.random((1, 128)).astype('float32')"
   ]
  },
  {
   "cell_type": "code",
   "execution_count": 24,
   "id": "cb76aced-fd99-4604-811c-c32eeb456f1c",
   "metadata": {},
   "outputs": [
    {
     "name": "stdout",
     "output_type": "stream",
     "text": [
      "nearest neighbors : [[14.387854  14.471326  14.72433   15.08274   15.4168415]]\n",
      "indices : [[878 805  58  63 278]]\n"
     ]
    }
   ],
   "source": [
    "dist, indices = pq_index.search(query_vect, 5)\n",
    "\n",
    "print(f'nearest neighbors : {dist}')\n",
    "print(f'indices : {indices}')"
   ]
  },
  {
   "cell_type": "code",
   "execution_count": null,
   "id": "8baa0fe1-49f1-450e-9bef-385d01e29bd4",
   "metadata": {},
   "outputs": [],
   "source": []
  }
 ],
 "metadata": {
  "kernelspec": {
   "display_name": "Python 3 (ipykernel)",
   "language": "python",
   "name": "python3"
  },
  "language_info": {
   "codemirror_mode": {
    "name": "ipython",
    "version": 3
   },
   "file_extension": ".py",
   "mimetype": "text/x-python",
   "name": "python",
   "nbconvert_exporter": "python",
   "pygments_lexer": "ipython3",
   "version": "3.12.7"
  }
 },
 "nbformat": 4,
 "nbformat_minor": 5
}
